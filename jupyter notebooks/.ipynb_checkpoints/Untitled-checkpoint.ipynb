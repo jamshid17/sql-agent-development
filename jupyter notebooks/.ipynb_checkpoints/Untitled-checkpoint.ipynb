{
 "cells": [
  {
   "cell_type": "code",
   "execution_count": 1,
   "id": "f29baece-2f6a-45ee-96e7-1839175cf3cc",
   "metadata": {},
   "outputs": [],
   "source": [
    "# import snowflake.connector\n",
    "import pandas as pd\n",
    "from snowflake.sqlalchemy import URL\n",
    "from sqlalchemy import create_engine\n",
    "\n",
    "\n",
    "import pandas as pd\n",
    "import openai\n",
    "# import json\n",
    "# import PyPDF2\n"
   ]
  },
  {
   "cell_type": "code",
   "execution_count": 2,
   "id": "dbf392ca-3444-4944-b85a-d92a248962ec",
   "metadata": {},
   "outputs": [],
   "source": [
    "# db = pd.read_csv(\"balance_data.csv\")"
   ]
  },
  {
   "cell_type": "code",
   "execution_count": 3,
   "id": "c61a1546-242f-402d-adf3-40acf20f85c4",
   "metadata": {},
   "outputs": [],
   "source": [
    "import pandas as pd"
   ]
  },
  {
   "cell_type": "code",
   "execution_count": 4,
   "id": "e8843577-6e62-43ba-8ded-755808fcfca4",
   "metadata": {},
   "outputs": [],
   "source": [
    "data = pd.read_excel(\"some_data.xlsx\", sheet_name=[\"4. Investment Transaction Deta\"])"
   ]
  },
  {
   "cell_type": "code",
   "execution_count": 5,
   "id": "acd98f80-a21a-49f3-9aa9-118bab85ccff",
   "metadata": {},
   "outputs": [],
   "source": [
    "data[\"4. Investment Transaction Deta\"].to_excel(\"invest_data.xlsx\", index=False)"
   ]
  },
  {
   "cell_type": "code",
   "execution_count": null,
   "id": "b6d994e9-15f6-490c-91eb-eed5d4565158",
   "metadata": {},
   "outputs": [],
   "source": []
  },
  {
   "cell_type": "code",
   "execution_count": 6,
   "id": "9409af0d-3311-4c2e-8b7a-e1d6e65039af",
   "metadata": {},
   "outputs": [],
   "source": [
    "# columns = [\"Receivables\", \"Liabilities\", \"Total Net Assets\"]"
   ]
  },
  {
   "cell_type": "code",
   "execution_count": 5,
   "id": "59c3c1a1-0ec3-4342-96e8-7514bbf0993f",
   "metadata": {},
   "outputs": [],
   "source": [
    "# for column in columns:\n",
    "#     column_values = list(db[column].values)\n",
    "#     new_column_values = []\n",
    "#     for col_val in column_values:\n",
    "#         new_col_val = col_val.replace(\",\", \"\")\n",
    "#         new_column_values.append(float(new_col_val))\n",
    "#     db[column] = new_column_values"
   ]
  },
  {
   "cell_type": "code",
   "execution_count": 7,
   "id": "fe0a8077-bbb2-4756-a578-d91acc81cb36",
   "metadata": {},
   "outputs": [],
   "source": [
    "# db.to_csv(\"balance_data.csv\", index=False)\n"
   ]
  },
  {
   "cell_type": "code",
   "execution_count": null,
   "id": "96fa5eb8-0a0b-4b23-b62e-b7e83d511833",
   "metadata": {},
   "outputs": [],
   "source": []
  },
  {
   "cell_type": "code",
   "execution_count": null,
   "id": "83a47973-41dc-4d3b-86ea-70eeec30252b",
   "metadata": {},
   "outputs": [],
   "source": []
  },
  {
   "cell_type": "code",
   "execution_count": null,
   "id": "e43b6d3f-aa60-4553-9fc7-d47284a8d2cb",
   "metadata": {},
   "outputs": [],
   "source": []
  },
  {
   "cell_type": "code",
   "execution_count": 6,
   "id": "bd7db95a-93ac-4f0d-a3e2-c83d3d6efe4c",
   "metadata": {},
   "outputs": [],
   "source": [
    "url = URL(\n",
    "    user='itsmejamshid',\n",
    "    password='Mucklab17',\n",
    "    account='ln12766.uae-north.azure',\n",
    "    warehouse='COMPUTE_WH',\n",
    "    database='FREEZY_SAMPLE',\n",
    "    schema='CYBERSYN_FINANCIAL',\n",
    "    role = 'ACCOUNTADMIN'\n",
    ")\n",
    "engine = create_engine(url)"
   ]
  },
  {
   "cell_type": "code",
   "execution_count": 7,
   "id": "99510818-6494-4571-a05d-cb98cb1772a3",
   "metadata": {},
   "outputs": [
    {
     "data": {
      "text/plain": [
       "<sqlalchemy.engine.base.Connection at 0x1483feb00>"
      ]
     },
     "execution_count": 7,
     "metadata": {},
     "output_type": "execute_result"
    }
   ],
   "source": [
    "engine.connect()"
   ]
  },
  {
   "cell_type": "code",
   "execution_count": 8,
   "id": "53b0602a-510a-45f9-b233-7c3bef436c61",
   "metadata": {},
   "outputs": [],
   "source": [
    "table_inputs = [\n",
    "    (\"TESTFORADF.PUBLIC.BALANCE\", \"\"),\n",
    "    (\"TESTFORADF.PUBLIC.CASH\", \"\"),\n",
    "    (\"TESTFORADF.PUBLIC.INVESTMENT\", \"\"),\n",
    "    (\"TESTFORADF.PUBLIC.TURNOVER\", \"\"),\n",
    "    \n",
    "    \n",
    "]"
   ]
  },
  {
   "cell_type": "code",
   "execution_count": 9,
   "id": "68344445-0603-40ee-bce8-a15bf38206bc",
   "metadata": {},
   "outputs": [],
   "source": [
    "# QUALIFIED_TABLE_NAME = \"TESTFORADF.PUBLIC.BALANCE\"\n",
    "# TABLE_DESCRIPTION = \"\"\n"
   ]
  },
  {
   "cell_type": "code",
   "execution_count": 10,
   "id": "c63718fe-ceeb-4120-bc54-1e99efc54218",
   "metadata": {},
   "outputs": [],
   "source": [
    "full_context = \"\"\n",
    "for table_input in table_inputs:\n",
    "    table_name, table_description = table_input\n",
    "    table_str_list = table_name.split(\".\")\n",
    "    query = f\"\"\"\n",
    "        SELECT COLUMN_NAME, DATA_TYPE FROM {table_str_list[0].upper()}.INFORMATION_SCHEMA.COLUMNS\n",
    "        WHERE TABLE_SCHEMA = '{table_str_list[1].upper()}' AND TABLE_NAME = '{table_str_list[2].upper()}'\n",
    "        \"\"\"\n",
    "    connection = engine.connect()\n",
    "    \n",
    "    columns = pd.read_sql(query, connection)\n",
    "    # connection = st.session_state.connection\n",
    "\n",
    "    columns = pd.read_sql(query, connection)\n",
    "    columns = \"\\n\".join(\n",
    "        [\n",
    "            f\"- **{columns['column_name'][i]}**: {columns['data_type'][i]}\"\n",
    "            for i in range(len(columns[\"column_name\"]))\n",
    "        ]\n",
    "    )\n",
    "    context = f\"\"\"\n",
    "Here is the table name <tableName> {'.'.join(table_str_list)} </tableName>\n",
    "\n",
    "<tableDescription>{table_description}</tableDescription>\n",
    "\n",
    "Here are the columns of the {'.'.join(table_str_list)}\n",
    "\n",
    "<columns>\\n\\n{columns}\\n\\n</columns>\n",
    "\"\"\"\n",
    "    full_context += context + '\\n\\n\\n'"
   ]
  },
  {
   "cell_type": "code",
   "execution_count": 11,
   "id": "6c86bc07-9b83-4d58-9925-66f13a27800b",
   "metadata": {
    "scrolled": true
   },
   "outputs": [
    {
     "name": "stdout",
     "output_type": "stream",
     "text": [
      "\n",
      "Here is the table name <tableName> TESTFORADF.PUBLIC.BALANCE </tableName>\n",
      "\n",
      "<tableDescription></tableDescription>\n",
      "\n",
      "Here are the columns of the TESTFORADF.PUBLIC.BALANCE\n",
      "\n",
      "<columns>\n",
      "\n",
      "- **Total Net Assets**: FLOAT\n",
      "- **Liabilities**: FLOAT\n",
      "- **Receivables**: FLOAT\n",
      "- **Date**: TEXT\n",
      "- **Fund Name**: TEXT\n",
      "\n",
      "</columns>\n",
      "\n",
      "\n",
      "\n",
      "\n",
      "Here is the table name <tableName> TESTFORADF.PUBLIC.CASH </tableName>\n",
      "\n",
      "<tableDescription></tableDescription>\n",
      "\n",
      "Here are the columns of the TESTFORADF.PUBLIC.CASH\n",
      "\n",
      "<columns>\n",
      "\n",
      "- **Account ID (FA)/Name**: TEXT\n",
      "- **Country of Risk**: TEXT\n",
      "- **Issue Currency**: TEXT\n",
      "- **Account ID (FA)**: TEXT\n",
      "- **Security Description (Short)**: TEXT\n",
      "- **Valuation Date**: DATE\n",
      "- **Long/Short Indicator**: TEXT\n",
      "- **Security Number (Full)**: TEXT\n",
      "- **Account ID (Custody)**: TEXT\n",
      "\n",
      "</columns>\n",
      "\n",
      "\n",
      "\n",
      "\n",
      "Here is the table name <tableName> TESTFORADF.PUBLIC.INVESTMENT </tableName>\n",
      "\n",
      "<tableDescription></tableDescription>\n",
      "\n",
      "Here are the columns of the TESTFORADF.PUBLIC.INVESTMENT\n",
      "\n",
      "<columns>\n",
      "\n",
      "- **Account ID (FA)**: TEXT\n",
      "- **Account ID (FA)/Name**: TEXT\n",
      "- **Issue Currency**: TEXT\n",
      "- **Primary Exchange Code**: TEXT\n",
      "- **Account Name (Short)**: TEXT\n",
      "- **Valuation Date**: DATE\n",
      "- **Security Category Industry Description**: TEXT\n",
      "- **Market Value Traded (Base)**: FLOAT\n",
      "- **ISIN**: TEXT\n",
      "- **Issuer Name**: TEXT\n",
      "- **Country of Risk**: TEXT\n",
      "- **Account ID (Custody)**: TEXT\n",
      "\n",
      "</columns>\n",
      "\n",
      "\n",
      "\n",
      "\n",
      "Here is the table name <tableName> TESTFORADF.PUBLIC.TURNOVER </tableName>\n",
      "\n",
      "<tableDescription></tableDescription>\n",
      "\n",
      "Here are the columns of the TESTFORADF.PUBLIC.TURNOVER\n",
      "\n",
      "<columns>\n",
      "\n",
      "- **Account Number**: TEXT\n",
      "- **N-CATG-NAME**: TEXT\n",
      "- **Recognition date**: NUMBER\n",
      "- **A-BAS-BSE**: FLOAT\n",
      "- **N-INV-SUB-CATG**: TEXT\n",
      "- **Through date**: NUMBER\n",
      "\n",
      "</columns>\n",
      "\n",
      "\n",
      "\n",
      "\n"
     ]
    }
   ],
   "source": [
    "print(full_context)"
   ]
  },
  {
   "cell_type": "code",
   "execution_count": null,
   "id": "13f63485-ec05-4069-be59-ec91be0cc4a4",
   "metadata": {},
   "outputs": [],
   "source": []
  },
  {
   "cell_type": "code",
   "execution_count": 52,
   "id": "4ddef150-8cff-4bf8-8aec-6c83416686d5",
   "metadata": {},
   "outputs": [],
   "source": [
    "system = f\"\"\"\n",
    "You will be acting as an AI Snowflake SQL Expert named Freezy.\n",
    "Your goal is to give correct, executable sql query to users.\n",
    "You are given one or multiple tables, the table name are in <tableName> tags, the columns are in <columns> tag.\n",
    "If user asks you to produce output table, you need to produce SQL query to create or replace ouput table based on the user's query.\n",
    "User will give you query and you need to extract necessary filters and the tables to aggregate for output table.\n",
    "You have to append multiple tables so that output must contain all of the columns in the tables user mentioned. \n",
    "Since all of the columns in the tables are distinct and do not share common name, you have to use the UNION function in sql query to merge tables into single output table by appending them.\n",
    "If there are multiple tables, since the columns in the tables are different, we will need to fill in the missing columns with NULL values to make the number of columns equal.\n",
    "Before producing any sql query to create output table, you should ask what would be the name for the output table name from user.\n",
    "When there are common column names among the tables, you need make them distinctive by merging table's name and column name to create new distinctive name.\n",
    "Other than asking you produce output table, user might give you other queries. You should respond to it with giving correct, executable sql query to users.\n",
    "You will be replying to users who will be confused if you don't respond in the character of Freezy.\n",
    "\n",
    "{full_context}\n",
    "\n",
    "Here are 6 critical rules for the interaction you must abide:\n",
    "<rules>\n",
    "1. You MUST MUST wrap the generated sql code within ``` sql code markdown in this format e.g\n",
    "```sql\n",
    "(select 1) union (select 2)\n",
    "```\n",
    "2. You HAVE to use the UNION function in sql query to create output table.\n",
    "3. If I don't tell you to find a limited set of results in the sql query or question, you MUST limit the number of responses to 10.\n",
    "4. Text / string where clauses must be fuzzy match e.g ilike %keyword%\n",
    "5. Make sure to generate a single snowflake sql code, not multiple. \n",
    "6. You should only use the table columns given in <columns>, and the table given in <tableName>, you MUST NOT hallucinate about the table names\n",
    "7. DO NOT put numerical at the very front of sql variable.\n",
    "8. USE \"ilike %keyword%\" for match queries (especially for variable_name column)\n",
    "</rules>\n",
    "\n",
    "\n",
    "Wrap the generated sql code with ``` sql code markdown in this format e.g:\n",
    "```sql\n",
    "(select 1) union (select 2)\n",
    "```\n",
    "\n",
    "For each question from the user, make sure to include a query in your response.\n",
    "\"\"\"\n",
    "# print(system)"
   ]
  },
  {
   "cell_type": "code",
   "execution_count": 53,
   "id": "61426234-313e-419a-8519-19f802eca5d6",
   "metadata": {},
   "outputs": [
    {
     "name": "stdout",
     "output_type": "stream",
     "text": [
      "\n",
      "You will be acting as an AI Snowflake SQL Expert named Freezy.\n",
      "Your goal is to give correct, executable sql query to users.\n",
      "You are given one or multiple tables, the table name are in <tableName> tags, the columns are in <columns> tag.\n",
      "If user asks you to produce output table, you need to produce SQL query to create or replace ouput table based on the user's query.\n",
      "User will give you query and you need to extract necessary filters and the tables to aggregate for output table.\n",
      "You have to append multiple tables so that output must contain all of the columns in the tables user mentioned. \n",
      "When there is no data, it should be treated as null.\n",
      "Since all of the columns in the tables are distinct and do not share common name, you have to use the UNION function in sql query to merge tables into single output table by appending them.\n",
      "If there are multiple tables, since the columns in the tables are different, we will need to fill in the missing columns with NULL values to make the number of columns equal.\n",
      "Before producing any sql query to create output table, you should ask what would be the name for the output table name from user.\n",
      "When there are common column names among the tables, you need make them distinctive by merging table's name and column name to create new distinctive name.\n",
      "Other than asking you produce output table, user might give you other queries. You should respond to it with giving correct, executable sql query to users.\n",
      "You will be replying to users who will be confused if you don't respond in the character of Freezy.\n",
      "\n",
      "\n",
      "Here is the table name <tableName> TESTFORADF.PUBLIC.BALANCE </tableName>\n",
      "\n",
      "<tableDescription></tableDescription>\n",
      "\n",
      "Here are the columns of the TESTFORADF.PUBLIC.BALANCE\n",
      "\n",
      "<columns>\n",
      "\n",
      "- **Total Net Assets**: FLOAT\n",
      "- **Liabilities**: FLOAT\n",
      "- **Receivables**: FLOAT\n",
      "- **Date**: TEXT\n",
      "- **Fund Name**: TEXT\n",
      "\n",
      "</columns>\n",
      "\n",
      "\n",
      "\n",
      "\n",
      "Here is the table name <tableName> TESTFORADF.PUBLIC.CASH </tableName>\n",
      "\n",
      "<tableDescription></tableDescription>\n",
      "\n",
      "Here are the columns of the TESTFORADF.PUBLIC.CASH\n",
      "\n",
      "<columns>\n",
      "\n",
      "- **Account ID (FA)/Name**: TEXT\n",
      "- **Country of Risk**: TEXT\n",
      "- **Issue Currency**: TEXT\n",
      "- **Account ID (FA)**: TEXT\n",
      "- **Security Description (Short)**: TEXT\n",
      "- **Valuation Date**: DATE\n",
      "- **Long/Short Indicator**: TEXT\n",
      "- **Security Number (Full)**: TEXT\n",
      "- **Account ID (Custody)**: TEXT\n",
      "\n",
      "</columns>\n",
      "\n",
      "\n",
      "\n",
      "\n",
      "Here is the table name <tableName> TESTFORADF.PUBLIC.INVESTMENT </tableName>\n",
      "\n",
      "<tableDescription></tableDescription>\n",
      "\n",
      "Here are the columns of the TESTFORADF.PUBLIC.INVESTMENT\n",
      "\n",
      "<columns>\n",
      "\n",
      "- **Account ID (FA)**: TEXT\n",
      "- **Account ID (FA)/Name**: TEXT\n",
      "- **Issue Currency**: TEXT\n",
      "- **Primary Exchange Code**: TEXT\n",
      "- **Account Name (Short)**: TEXT\n",
      "- **Valuation Date**: DATE\n",
      "- **Security Category Industry Description**: TEXT\n",
      "- **Market Value Traded (Base)**: FLOAT\n",
      "- **ISIN**: TEXT\n",
      "- **Issuer Name**: TEXT\n",
      "- **Country of Risk**: TEXT\n",
      "- **Account ID (Custody)**: TEXT\n",
      "\n",
      "</columns>\n",
      "\n",
      "\n",
      "\n",
      "\n",
      "Here is the table name <tableName> TESTFORADF.PUBLIC.TURNOVER </tableName>\n",
      "\n",
      "<tableDescription></tableDescription>\n",
      "\n",
      "Here are the columns of the TESTFORADF.PUBLIC.TURNOVER\n",
      "\n",
      "<columns>\n",
      "\n",
      "- **Account Number**: TEXT\n",
      "- **N-CATG-NAME**: TEXT\n",
      "- **Recognition date**: NUMBER\n",
      "- **A-BAS-BSE**: FLOAT\n",
      "- **N-INV-SUB-CATG**: TEXT\n",
      "- **Through date**: NUMBER\n",
      "\n",
      "</columns>\n",
      "\n",
      "\n",
      "\n",
      "\n",
      "\n",
      "Here are 6 critical rules for the interaction you must abide:\n",
      "<rules>\n",
      "1. You MUST MUST wrap the generated sql code within ``` sql code markdown in this format e.g\n",
      "```sql\n",
      "(select 1) union (select 2)\n",
      "```\n",
      "2. You HAVE to use the UNION function in sql query to create output table.\n",
      "3. If I don't tell you to find a limited set of results in the sql query or question, you MUST limit the number of responses to 10.\n",
      "4. Text / string where clauses must be fuzzy match e.g ilike %keyword%\n",
      "5. Make sure to generate a single snowflake sql code, not multiple. \n",
      "6. You should only use the table columns given in <columns>, and the table given in <tableName>, you MUST NOT hallucinate about the table names\n",
      "7. DO NOT put numerical at the very front of sql variable.\n",
      "8. USE \"ilike %keyword%\" for match queries (especially for variable_name column)\n",
      "</rules>\n",
      "\n",
      "\n",
      "Wrap the generated sql code with ``` sql code markdown in this format e.g:\n",
      "```sql\n",
      "(select 1) union (select 2)\n",
      "```\n",
      "\n",
      "For each question from the user, make sure to include a query in your response.\n",
      "\n"
     ]
    }
   ],
   "source": [
    "print(system)"
   ]
  },
  {
   "cell_type": "code",
   "execution_count": null,
   "id": "4ffcf419-c018-4254-89de-9791cc936465",
   "metadata": {},
   "outputs": [],
   "source": []
  },
  {
   "cell_type": "code",
   "execution_count": 54,
   "id": "509f6c9e-33aa-4e3e-8292-bf20efbcbc43",
   "metadata": {},
   "outputs": [],
   "source": [
    "openai.api_key = \"d3e70cf965e3499c868d5fd0448ecf99\"\n",
    "openai.api_base =  \"https://ai-stage1.openai.azure.com/\" # your endpoint should look like the following https://YOUR_RESOURCE_NAME.openai.azure.com/\n",
    "openai.api_type = 'azure'\n",
    "# openai.api_version = '2023-03-15-preview' # this may change in the future\n",
    "openai.api_version = '2023-03-15-preview'\n",
    "\n",
    "chatgpt = 'gpt-3.5-turbo'"
   ]
  },
  {
   "cell_type": "code",
   "execution_count": 18,
   "id": "852fbe5e-8d5b-4a90-b5a6-617c86896259",
   "metadata": {},
   "outputs": [
    {
     "name": "stdout",
     "output_type": "stream",
     "text": [
      "Before I can provide you with the SQL query to create the output table, could you please confirm if you want me to include all columns from all tables? Also, do you want me to replace any existing 'OUTPUT' table or create a new one?<|im_end|>\n"
     ]
    }
   ],
   "source": [
    "prompt = f\"\"\"<|im_start|>system\n",
    "{system}\n",
    "<|im_end|>\n",
    "<|im_start|>user\n",
    "Question: Give me the output table from the all of the table I created under the name 'OUTPUT'.\n",
    "<|im_end|>\n",
    "<|im_start|>assistant\n",
    "Answer:\"\"\"\n",
    "response = openai.Completion.create(engine=\"chatgpt\", prompt=prompt, temperature=0.5, max_tokens=1024)\n",
    "print(response['choices'][0]['text'].strip())\n"
   ]
  },
  {
   "cell_type": "code",
   "execution_count": 100,
   "id": "e3c8bdf1-a216-4b70-a2c0-4cd144fd5ddd",
   "metadata": {},
   "outputs": [],
   "source": [
    "content = r['choices'][0].message.content"
   ]
  },
  {
   "cell_type": "code",
   "execution_count": 101,
   "id": "0589ce7b-18f2-406f-9e82-efc9a5de3b84",
   "metadata": {},
   "outputs": [],
   "source": [
    "import re\n",
    "sql_match = re.search(r\"```sql\\n(.*)\\n```\", content, re.DOTALL)"
   ]
  },
  {
   "cell_type": "code",
   "execution_count": 103,
   "id": "ae44ea27-c7d8-4dc1-acf9-1b8d2a0a7884",
   "metadata": {},
   "outputs": [],
   "source": [
    "new_content = content.replace(sql_match.group(1), '')"
   ]
  },
  {
   "cell_type": "code",
   "execution_count": 105,
   "id": "b3899dd1-3171-4445-ae5e-59fcbb832e7e",
   "metadata": {},
   "outputs": [
    {
     "name": "stdout",
     "output_type": "stream",
     "text": [
      "Understood. To create the output table with all columns from all tables, you can use the following SQL query:\n",
      "\n",
      "```sql\n",
      "\n",
      "```\n",
      "\n",
      "This will create a new table named 'OUTPUT' that contains all columns from all tables.\n"
     ]
    }
   ],
   "source": [
    "print(new_content)"
   ]
  },
  {
   "cell_type": "code",
   "execution_count": null,
   "id": "e7149016-3c65-44d6-b50a-160f704a161f",
   "metadata": {},
   "outputs": [],
   "source": []
  },
  {
   "cell_type": "code",
   "execution_count": 102,
   "id": "ecc6257e-bb61-445f-af01-b58a2d133ad6",
   "metadata": {
    "scrolled": true
   },
   "outputs": [
    {
     "name": "stdout",
     "output_type": "stream",
     "text": [
      "CREATE OR REPLACE TABLE OUTPUT AS\n",
      "(\n",
      "SELECT * FROM TESTFORADF.PUBLIC.BALANCE\n",
      "UNION\n",
      "SELECT * FROM TESTFORADF.PUBLIC.CASH\n",
      "UNION\n",
      "SELECT * FROM TESTFORADF.PUBLIC.INVESTMENT\n",
      "UNION\n",
      "SELECT * FROM TESTFORADF.PUBLIC.TURNOVER\n",
      ");\n"
     ]
    }
   ],
   "source": [
    "print(sql_match.group(1))"
   ]
  },
  {
   "cell_type": "markdown",
   "id": "58909402-0b0b-4e13-bde7-be80b194cc5c",
   "metadata": {},
   "source": [
    "# chat"
   ]
  },
  {
   "cell_type": "code",
   "execution_count": 86,
   "id": "67b7cc46-fba2-4a21-8f2a-9b8ab9194c7e",
   "metadata": {},
   "outputs": [],
   "source": [
    "messages = [\n",
    "    {\n",
    "        \"role\":\"system\",\n",
    "        \"content\": system\n",
    "    }\n",
    "]"
   ]
  },
  {
   "cell_type": "code",
   "execution_count": 87,
   "id": "f996496e-61d0-44ae-aa6e-1310cf54af4c",
   "metadata": {},
   "outputs": [],
   "source": [
    "user_question = \" Give me the output table from the all of the table I created under the name 'OUTPUT'.\""
   ]
  },
  {
   "cell_type": "code",
   "execution_count": 92,
   "id": "dd426852-afe4-4a3c-9ed8-d3703025e912",
   "metadata": {},
   "outputs": [],
   "source": [
    "user_question = \"all of them\""
   ]
  },
  {
   "cell_type": "code",
   "execution_count": 93,
   "id": "21db2edf-7491-4da9-90b8-a992c9da57b8",
   "metadata": {},
   "outputs": [],
   "source": [
    "messages.append({\n",
    "    \"role\": \"user\",\n",
    "    \"content\": user_question\n",
    "})"
   ]
  },
  {
   "cell_type": "code",
   "execution_count": 94,
   "id": "f0709d4e-cc26-4366-8ea9-3b2aa8eeecb9",
   "metadata": {},
   "outputs": [],
   "source": [
    "r = openai.ChatCompletion.create(\n",
    "    engine=\"chatgpt\",\n",
    "    messages=messages,\n",
    "    temperature=0.1,\n",
    ")"
   ]
  },
  {
   "cell_type": "code",
   "execution_count": 95,
   "id": "4c46f99c-d42f-4acb-9ecd-bef4f51a6217",
   "metadata": {
    "scrolled": true
   },
   "outputs": [
    {
     "data": {
      "text/plain": [
       "\"Understood. To create the output table with all columns from all tables, you can use the following SQL query:\\n\\n```sql\\nCREATE OR REPLACE TABLE OUTPUT AS\\n(\\nSELECT * FROM TESTFORADF.PUBLIC.BALANCE\\nUNION\\nSELECT * FROM TESTFORADF.PUBLIC.CASH\\nUNION\\nSELECT * FROM TESTFORADF.PUBLIC.INVESTMENT\\nUNION\\nSELECT * FROM TESTFORADF.PUBLIC.TURNOVER\\n);\\n```\\n\\nThis will create a new table named 'OUTPUT' that contains all columns from all tables.\""
      ]
     },
     "execution_count": 95,
     "metadata": {},
     "output_type": "execute_result"
    }
   ],
   "source": [
    "r['choices'][0].message.content"
   ]
  },
  {
   "cell_type": "code",
   "execution_count": 91,
   "id": "35528e5d-5658-4002-a06b-18f505261620",
   "metadata": {},
   "outputs": [],
   "source": [
    "messages.append(\n",
    "    {\n",
    "        \"role\":r['choices'][0].message.role,\n",
    "        \"content\":r['choices'][0].message.content\n",
    "    \n",
    "    }\n",
    ")"
   ]
  },
  {
   "cell_type": "code",
   "execution_count": null,
   "id": "17e0cfe4-d932-41fc-bcea-3890fd9fb99e",
   "metadata": {},
   "outputs": [],
   "source": []
  },
  {
   "cell_type": "code",
   "execution_count": 33,
   "id": "ac529b7d-d073-490a-9e9b-34dd1b9d286d",
   "metadata": {},
   "outputs": [],
   "source": []
  },
  {
   "cell_type": "code",
   "execution_count": 34,
   "id": "61375974-0599-464a-ac67-0d0ab35cffe6",
   "metadata": {},
   "outputs": [],
   "source": [
    "user_question = \"all of the columns\"\n",
    "messages.append({\n",
    "    \"role\": \"user\",\n",
    "    \"content\": user_question\n",
    "})"
   ]
  },
  {
   "cell_type": "code",
   "execution_count": null,
   "id": "d16c8433-311e-4544-b9c2-291ee6d36af2",
   "metadata": {},
   "outputs": [],
   "source": [
    "r = openai.ChatCompletion.create(\n",
    "    engine=\"chatgpt\",\n",
    "    messages=messages,\n",
    "    temperature=0.1,\n",
    ")"
   ]
  },
  {
   "cell_type": "markdown",
   "id": "222a2826-57eb-442b-a8e2-4bfad5cf6f2d",
   "metadata": {},
   "source": [
    "# doing with gpt-4"
   ]
  },
  {
   "cell_type": "code",
   "execution_count": 40,
   "id": "c753ea68-2b77-43ab-b1cf-7379ad1de387",
   "metadata": {},
   "outputs": [],
   "source": [
    "openai.api_key = \"cdf63ece486a426da741e31ef181950c\"\n",
    "openai.api_base =  \"https://ai-stage2.openai.azure.com/\" # your endpoint should look like the following https://YOUR_RESOURCE_NAME.openai.azure.com/\n",
    "openai.api_type = 'azure'\n",
    "# openai.api_version = '2023-03-15-preview' # this may change in the future\n",
    "openai.api_version = '2023-08-01-preview'"
   ]
  },
  {
   "cell_type": "code",
   "execution_count": 41,
   "id": "1d33f26f-e036-4d9b-805c-7a6ea7420592",
   "metadata": {},
   "outputs": [],
   "source": [
    "messages = [\n",
    "    {\n",
    "        \"role\":\"system\",\n",
    "        \"content\": system\n",
    "    }\n",
    "]"
   ]
  },
  {
   "cell_type": "code",
   "execution_count": 42,
   "id": "1fcc3fbe-d68d-4eb4-a958-c3b3634adf7d",
   "metadata": {},
   "outputs": [],
   "source": [
    "user_question = \"Give me the output table from the all of the table I created under the name 'OUTPUT'\""
   ]
  },
  {
   "cell_type": "code",
   "execution_count": null,
   "id": "b33184c7-dc24-4f7b-84fd-a5a551064379",
   "metadata": {},
   "outputs": [],
   "source": []
  },
  {
   "cell_type": "code",
   "execution_count": 47,
   "id": "1ccb9a50-baec-490c-ad27-949c7691da52",
   "metadata": {},
   "outputs": [],
   "source": [
    "messages.append({\n",
    "    \"role\": \"user\",\n",
    "    \"content\": user_question\n",
    "})"
   ]
  },
  {
   "cell_type": "code",
   "execution_count": 48,
   "id": "0e1637a1-3a33-45ef-b50e-692e6baa52d4",
   "metadata": {},
   "outputs": [],
   "source": [
    "r = openai.ChatCompletion.create(\n",
    "    engine=\"gpt-4\",\n",
    "    messages=messages,\n",
    "    temperature=0.1,\n",
    ")"
   ]
  },
  {
   "cell_type": "code",
   "execution_count": 50,
   "id": "b48c71a3-1470-4bb2-90ee-7bc0a669468d",
   "metadata": {},
   "outputs": [
    {
     "name": "stdout",
     "output_type": "stream",
     "text": [
      ", I can help with that. Let's create a new table named 'OUTPUT' that combines all the columns from the tables you provided. Here's the SQL query:\n",
      "\n",
      "```sql\n",
      "CREATE OR REPLACE TABLE OUTPUT AS\n",
      "(\n",
      "SELECT \n",
      "    \"Total Net Assets\",\n",
      "    \"Liabilities\",\n",
      "    \"Receivables\",\n",
      "    \"Date\",\n",
      "    \"Fund Name\",\n",
      "    NULL AS \"Account ID (FA)/Name\",\n",
      "    NULL AS \"Country of Risk\",\n",
      "    NULL AS \"Issue Currency\",\n",
      "    NULL AS \"Account ID (FA)\",\n",
      "    NULL AS \"Security Description (Short)\",\n",
      "    NULL AS \"Valuation Date\",\n",
      "    NULL AS \"Long/Short Indicator\",\n",
      "    NULL AS \"Security Number (Full)\",\n",
      "    NULL AS \"Account ID (Custody)\",\n",
      "    NULL AS \"Primary Exchange Code\",\n",
      "    NULL AS \"Account Name (Short)\",\n",
      "    NULL AS \"Security Category Industry Description\",\n",
      "    NULL AS \"Market Value Traded (Base)\",\n",
      "    NULL AS \"ISIN\",\n",
      "    NULL AS \"Issuer Name\",\n",
      "    NULL AS \"Account Number\",\n",
      "    NULL AS \"N-CATG-NAME\",\n",
      "    NULL AS \"Recognition date\",\n",
      "    NULL AS \"A-BAS-BSE\",\n",
      "    NULL AS \"N-INV-SUB-CATG\",\n",
      "    NULL AS \"Through date\"\n",
      "FROM TESTFORADF.PUBLIC.BALANCE\n",
      "\n",
      "UNION\n",
      "\n",
      "SELECT \n",
      "    NULL,\n",
      "    NULL,\n",
      "    NULL,\n",
      "    NULL,\n",
      "    NULL,\n",
      "    \"Account ID (FA)/Name\",\n",
      "    \"Country of Risk\",\n",
      "    \"Issue Currency\",\n",
      "    \"Account ID (FA)\",\n",
      "    \"Security Description (Short)\",\n",
      "    \"Valuation Date\",\n",
      "    \"Long/Short Indicator\",\n",
      "    \"Security Number (Full)\",\n",
      "    \"Account ID (Custody)\",\n",
      "    NULL,\n",
      "    NULL,\n",
      "    NULL,\n",
      "    NULL,\n",
      "    NULL,\n",
      "    NULL,\n",
      "    NULL,\n",
      "    NULL,\n",
      "    NULL,\n",
      "    NULL,\n",
      "    NULL,\n",
      "    NULL\n",
      "FROM TESTFORADF.PUBLIC.CASH\n",
      "\n",
      "UNION\n",
      "\n",
      "SELECT \n",
      "    NULL,\n",
      "    NULL,\n",
      "    NULL,\n",
      "    NULL,\n",
      "    NULL,\n",
      "    \"Account ID (FA)/Name\",\n",
      "    \"Country of Risk\",\n",
      "    \"Issue Currency\",\n",
      "    \"Account ID (FA)\",\n",
      "    NULL,\n",
      "    \"Valuation Date\",\n",
      "    NULL,\n",
      "    NULL,\n",
      "    \"Account ID (Custody)\",\n",
      "    \"Primary Exchange Code\",\n",
      "    \"Account Name (Short)\",\n",
      "    \"Security Category Industry Description\",\n",
      "    \"Market Value Traded (Base)\",\n",
      "    \"ISIN\",\n",
      "    \"Issuer Name\",\n",
      "    NULL,\n",
      "    NULL,\n",
      "    NULL,\n",
      "    NULL,\n",
      "    NULL,\n",
      "    NULL\n",
      "FROM TESTFORADF.PUBLIC.INVESTMENT\n",
      "\n",
      "UNION\n",
      "\n",
      "SELECT \n",
      "    NULL,\n",
      "    NULL,\n",
      "    NULL,\n",
      "    NULL,\n",
      "    NULL,\n",
      "    NULL,\n",
      "    NULL,\n",
      "    NULL,\n",
      "    NULL,\n",
      "    NULL,\n",
      "    NULL,\n",
      "    NULL,\n",
      "    NULL,\n",
      "    NULL,\n",
      "    NULL,\n",
      "    NULL,\n",
      "    NULL,\n",
      "    NULL,\n",
      "    NULL,\n",
      "    NULL,\n",
      "    \"Account Number\",\n",
      "    \"N-CATG-NAME\",\n",
      "    \"Recognition date\",\n",
      "    \"A-BAS-BSE\",\n",
      "    \"N-INV-SUB-CATG\",\n",
      "    \"Through date\"\n",
      "FROM TESTFORADF.PUBLIC.TURNOVER\n",
      ")\n",
      "LIMIT 10;\n",
      "```\n",
      "This query will create a new table named 'OUTPUT' that contains all the columns from the four tables you provided. The missing columns in each table are filled with NULL values.\n"
     ]
    }
   ],
   "source": [
    "print(r['choices'][0].message.content)"
   ]
  },
  {
   "cell_type": "code",
   "execution_count": null,
   "id": "86ad7449-7abe-4548-8e37-4d5a074d1b8c",
   "metadata": {},
   "outputs": [],
   "source": []
  },
  {
   "cell_type": "code",
   "execution_count": 82,
   "id": "d9ba5941-95d3-48f9-8b12-a53e2d6c34c4",
   "metadata": {},
   "outputs": [],
   "source": [
    "messages.append(\n",
    "    {\n",
    "        \"role\":r['choices'][0].message.role,\n",
    "        \"content\":r['choices'][0].message.content\n",
    "     \n",
    "    }\n",
    ")"
   ]
  },
  {
   "cell_type": "code",
   "execution_count": 83,
   "id": "1f1b2402-a7b6-4e8a-a516-4cec99b4b1e4",
   "metadata": {},
   "outputs": [],
   "source": [
    "messages.append(\n",
    "    {\n",
    "        \"role\":\"user\",\n",
    "        \"content\":\"The sql you gave me again produce this error: invalid number of result columns for set operator input branches, expected 5, got 9 in branch 2\"\n",
    "    \n",
    "    }\n",
    ")"
   ]
  },
  {
   "cell_type": "code",
   "execution_count": 64,
   "id": "50da74f8-5996-4509-9221-80c118c9a5b3",
   "metadata": {},
   "outputs": [],
   "source": [
    "r = openai.ChatCompletion.create(\n",
    "    engine=\"gpt-4\",\n",
    "    messages=messages,\n",
    "    temperature=0.1,\n",
    ")"
   ]
  },
  {
   "cell_type": "code",
   "execution_count": null,
   "id": "61fd5760-6a17-43b1-93c5-5d59884371fc",
   "metadata": {},
   "outputs": [],
   "source": []
  },
  {
   "cell_type": "code",
   "execution_count": null,
   "id": "715c62f5-6bbe-46a3-9e92-b9a91c16cd14",
   "metadata": {},
   "outputs": [],
   "source": []
  },
  {
   "cell_type": "code",
   "execution_count": 99,
   "id": "82658d76-a6bf-4557-a0f7-90f0b260367f",
   "metadata": {},
   "outputs": [],
   "source": [
    "response_content = r['choices'][0].message.content"
   ]
  },
  {
   "cell_type": "code",
   "execution_count": 108,
   "id": "f3fa0632-a8e0-4d93-9996-138632231303",
   "metadata": {
    "scrolled": true
   },
   "outputs": [
    {
     "name": "stdout",
     "output_type": "stream",
     "text": [
      "Sure thing! Here's the SQL query you need. It will create an output table from the BALANCE and CASH tables, filtering for Receivables greater than 0.\n",
      "\n",
      "```sql\n",
      "CREATE OR REPLACE TABLE TESTFORADF.PUBLIC.LCIV_OUTPUT AS\n",
      "(\n",
      "    SELECT \n",
      "        \"Total Net Assets\",\n",
      "        \"Receivables\",\n",
      "        \"Liabilities\",\n",
      "        \"Date\",\n",
      "        \"Fund Name\",\n",
      "        NULL AS \"Country of Risk\",\n",
      "        NULL AS \"Account ID (FA)/Name\",\n",
      "        NULL AS \"Issue Currency\",\n",
      "        NULL AS \"Account ID (FA)\",\n",
      "        NULL AS \"Security Description (Short)\",\n",
      "        NULL AS \"Valuation Date\",\n",
      "        NULL AS \"Security Number (Full)\",\n",
      "        NULL AS \"Long/Short Indicator\",\n",
      "        NULL AS \"Account ID (Custody)\"\n",
      "    FROM TESTFORADF.PUBLIC.BALANCE\n",
      "    WHERE \"Receivables\" > 0\n",
      "\n",
      "    UNION\n",
      "\n",
      "    SELECT \n",
      "        NULL AS \"Total Net Assets\",\n",
      "        NULL AS \"Receivables\",\n",
      "        NULL AS \"Liabilities\",\n",
      "        NULL AS \"Date\",\n",
      "        NULL AS \"Fund Name\",\n",
      "        \"Country of Risk\",\n",
      "        \"Account ID (FA)/Name\",\n",
      "        \"Issue Currency\",\n",
      "        \"Account ID (FA)\",\n",
      "        \"Security Description (Short)\",\n",
      "        \"Valuation Date\",\n",
      "        \"Security Number (Full)\",\n",
      "        \"Long/Short Indicator\",\n",
      "        \"Account ID (Custody)\"\n",
      "    FROM TESTFORADF.PUBLIC.CASH\n",
      ")\n",
      "LIMIT 10;\n",
      "```\n",
      "\n",
      "This query will return the first 10 rows of the output table. If you need more rows, you can adjust the LIMIT clause.\n"
     ]
    }
   ],
   "source": [
    "print(response_content)"
   ]
  },
  {
   "cell_type": "code",
   "execution_count": null,
   "id": "abd9e561-7813-4ca6-abca-a90953c3bc62",
   "metadata": {},
   "outputs": [],
   "source": []
  },
  {
   "cell_type": "code",
   "execution_count": 101,
   "id": "d558ad26-373d-4f75-8212-6a1660e4b43e",
   "metadata": {},
   "outputs": [],
   "source": [
    "sql_match = re.search(r\"```sql\\n(.*)\\n```\", response_content, re.DOTALL)"
   ]
  },
  {
   "cell_type": "code",
   "execution_count": 102,
   "id": "c9567f19-2315-43e9-995b-da55ffb111c9",
   "metadata": {},
   "outputs": [
    {
     "name": "stdout",
     "output_type": "stream",
     "text": [
      "CREATE OR REPLACE TABLE TESTFORADF.PUBLIC.LCIV_OUTPUT AS\n",
      "(\n",
      "    SELECT \n",
      "        \"Total Net Assets\",\n",
      "        \"Receivables\",\n",
      "        \"Liabilities\",\n",
      "        \"Date\",\n",
      "        \"Fund Name\",\n",
      "        NULL AS \"Country of Risk\",\n",
      "        NULL AS \"Account ID (FA)/Name\",\n",
      "        NULL AS \"Issue Currency\",\n",
      "        NULL AS \"Account ID (FA)\",\n",
      "        NULL AS \"Security Description (Short)\",\n",
      "        NULL AS \"Valuation Date\",\n",
      "        NULL AS \"Security Number (Full)\",\n",
      "        NULL AS \"Long/Short Indicator\",\n",
      "        NULL AS \"Account ID (Custody)\"\n",
      "    FROM TESTFORADF.PUBLIC.BALANCE\n",
      "    WHERE \"Receivables\" > 0\n",
      "\n",
      "    UNION\n",
      "\n",
      "    SELECT \n",
      "        NULL AS \"Total Net Assets\",\n",
      "        NULL AS \"Receivables\",\n",
      "        NULL AS \"Liabilities\",\n",
      "        NULL AS \"Date\",\n",
      "        NULL AS \"Fund Name\",\n",
      "        \"Country of Risk\",\n",
      "        \"Account ID (FA)/Name\",\n",
      "        \"Issue Currency\",\n",
      "        \"Account ID (FA)\",\n",
      "        \"Security Description (Short)\",\n",
      "        \"Valuation Date\",\n",
      "        \"Security Number (Full)\",\n",
      "        \"Long/Short Indicator\",\n",
      "        \"Account ID (Custody)\"\n",
      "    FROM TESTFORADF.PUBLIC.CASH\n",
      ")\n",
      "LIMIT 10;\n"
     ]
    }
   ],
   "source": [
    "print(sql_match.group(1))"
   ]
  },
  {
   "cell_type": "code",
   "execution_count": null,
   "id": "01189027-b67f-465c-992c-65fc96cec8ad",
   "metadata": {},
   "outputs": [],
   "source": []
  },
  {
   "cell_type": "code",
   "execution_count": 158,
   "id": "71e72f69-6e54-4f0c-94f5-24fadaa03fd1",
   "metadata": {},
   "outputs": [],
   "source": []
  },
  {
   "cell_type": "code",
   "execution_count": 159,
   "id": "565ba6ed-8ee6-4fb4-a2e8-be5d8cba345b",
   "metadata": {},
   "outputs": [
    {
     "name": "stdout",
     "output_type": "stream",
     "text": [
      "SELECT balance.\"Total Net Assets\", balance.\"Liabilities\", balance.\"Receivables\", balance.\"Date\", balance.\"Fund Name\", \n",
      "       cash.\"Country of Risk\", cash.\"Account ID (FA)/Name\", cash.\"Issue Currency\", cash.\"Account ID (FA)\", cash.\"Security Description (Short)\", \n",
      "       cash.\"Valuation Date\", cash.\"Security Number (Full)\", cash.\"Long/Short Indicator\", cash.\"Account ID (Custody)\"\n",
      "FROM TESTFORADF.PUBLIC.BALANCE as balance \n",
      "JOIN TESTFORADF.PUBLIC.CASH as cash \n",
      "ON balance.\"Date\"=cash.\"Valuation Date\" \n",
      "WHERE balance.\"Receivables\" > 0\n",
      "UNION ALL\n",
      "SELECT balance.\"Total Net Assets\", balance.\"Liabilities\", balance.\"Receivables\", balance.\"Date\", balance.\"Fund Name\", \n",
      "       cash.\"Country of Risk\", cash.\"Account ID (FA)/Name\", cash.\"Issue Currency\", cash.\"Account ID (FA)\", cash.\"Security Description (Short)\", \n",
      "       cash.\"Valuation Date\", cash.\"Security Number (Full)\", cash.\"Long/Short Indicator\", cash.\"Account ID (Custody)\"\n",
      "FROM TESTFORADF.PUBLIC.BALANCE as balance \n",
      "RIGHT JOIN TESTFORADF.PUBLIC.CASH as cash \n",
      "ON balance.\"Date\"=cash.\"Valuation Date\" \n",
      "WHERE balance.\"Receivables\" > 0;\n"
     ]
    }
   ],
   "source": []
  },
  {
   "cell_type": "code",
   "execution_count": null,
   "id": "ffa902ef-8649-4460-86f2-406d135ffc82",
   "metadata": {},
   "outputs": [],
   "source": []
  },
  {
   "cell_type": "code",
   "execution_count": 147,
   "id": "dafeae95-e337-4968-8b09-5316e3f77e72",
   "metadata": {},
   "outputs": [],
   "source": []
  },
  {
   "cell_type": "code",
   "execution_count": 150,
   "id": "c7a108e0-cb11-4588-84b3-5419fd2a614c",
   "metadata": {
    "scrolled": true
   },
   "outputs": [],
   "source": [
    "# response = openai.ChatCompletion.create(engine=\"gpt-4\", prompt=prompt, temperature=0.5, max_tokens=1024)\n"
   ]
  },
  {
   "cell_type": "code",
   "execution_count": null,
   "id": "5f97a9cf-41a5-4a41-8c0a-732ca49c6057",
   "metadata": {},
   "outputs": [],
   "source": []
  },
  {
   "cell_type": "code",
   "execution_count": null,
   "id": "c12c2611-e3ca-4759-831f-d3597019cdff",
   "metadata": {},
   "outputs": [],
   "source": []
  },
  {
   "cell_type": "code",
   "execution_count": 144,
   "id": "18ae655b-89be-44cc-8d9c-82b9241f04e5",
   "metadata": {},
   "outputs": [
    {
     "name": "stdout",
     "output_type": "stream",
     "text": [
      "SELECT balance.\"Total Net Assets\", balance.\"Liabilities\", balance.\"Receivables\", balance.\"Date\", balance.\"Fund Name\", cash.\"Country of Risk\", cash.\"Account ID (FA)/Name\", cash.\"Issue Currency\", cash.\"Account ID (FA)\", cash.\"Security Description (Short)\", cash.\"Valuation Date\", cash.\"Security Number (Full)\", cash.\"Long/Short Indicator\", cash.\"Account ID (Custody)\"\n",
      "FROM TESTFORADF.PUBLIC.BALANCE as balance\n",
      "JOIN TESTFORADF.PUBLIC.CASH as cash\n",
      "ON balance.\"Fund Name\" = cash.\"Account ID (FA)/Name\"\n",
      "WHERE balance.\"Receivables\" > 0\n",
      "UNION ALL\n",
      "SELECT balance.\"Total Net Assets\", balance.\"Liabilities\", balance.\"Receivables\", balance.\"Date\", balance.\"Fund Name\", cash.\"Country of Risk\", cash.\"Account ID (FA)/Name\", cash.\"Issue Currency\", cash.\"Account ID (FA)\", cash.\"Security Description (Short)\", cash.\"Valuation Date\", cash.\"Security Number (Full)\", cash.\"Long/Short Indicator\", cash.\"Account ID (Custody)\"\n",
      "FROM TESTFORADF.PUBLIC.BALANCE as balance\n",
      "RIGHT JOIN TESTFORADF.PUBLIC.CASH as cash\n",
      "ON balance.\"Fund Name\" = cash.\"Account ID (FA)/Name\"\n",
      "WHERE balance.\"Receivables\" > 0;\n"
     ]
    }
   ],
   "source": []
  },
  {
   "cell_type": "code",
   "execution_count": 119,
   "id": "777be413-ba42-4bde-a3ab-9905136e5bc7",
   "metadata": {},
   "outputs": [
    {
     "ename": "ProgrammingError",
     "evalue": "(snowflake.connector.errors.ProgrammingError) 000904 (42000): SQL compilation error: error line 4 at position 4\ninvalid identifier 'BALANCE.LIABILITIES'\n[SQL: CREATE OR REPLACE TABLE TESTFORADF.PUBLIC.LCIV_OUTPUT AS\nSELECT \n    BALANCE.\"Total Net Assets\" AS BALANCE_Total_Net_Assets,\n    BALANCE.Liabilities AS BALANCE_Liabilities,\n    BALANCE.Receivables AS BALANCE_Receivables,\n    BALANCE.Date AS BALANCE_Date,\n    BALANCE.\"Fund Name\" AS BALANCE_Fund_Name,\n    CASH.\"Country of Risk\" AS CASH_Country_of_Risk,\n    CASH.\"Account ID (FA)/Name\" AS CASH_Account_ID_FA_Name,\n    CASH.\"Issue Currency\" AS CASH_Issue_Currency,\n    CASH.\"Account ID (FA)\" AS CASH_Account_ID_FA,\n    CASH.\"Security Description (Short)\" AS CASH_Security_Description_Short,\n    CASH.\"Valuation Date\" AS CASH_Valuation_Date,\n    CASH.\"Security Number (Full)\" AS CASH_Security_Number_Full,\n    CASH.\"Long/Short Indicator\" AS CASH_Long_Short_Indicator,\n    CASH.\"Account ID (Custody)\" AS CASH_Account_ID_Custody\nFROM TESTFORADF.PUBLIC.BALANCE AS BALANCE\nCROSS JOIN TESTFORADF.PUBLIC.CASH AS CASH\nLIMIT 10;]\n(Background on this error at: https://sqlalche.me/e/14/f405)",
     "output_type": "error",
     "traceback": [
      "\u001b[0;31m---------------------------------------------------------------------------\u001b[0m",
      "\u001b[0;31mProgrammingError\u001b[0m                          Traceback (most recent call last)",
      "File \u001b[0;32m~/.pyenv/versions/3.10.1/lib/python3.10/site-packages/sqlalchemy/engine/base.py:1910\u001b[0m, in \u001b[0;36mConnection._execute_context\u001b[0;34m(self, dialect, constructor, statement, parameters, execution_options, *args, **kw)\u001b[0m\n\u001b[1;32m   1909\u001b[0m     \u001b[38;5;28;01mif\u001b[39;00m \u001b[38;5;129;01mnot\u001b[39;00m evt_handled:\n\u001b[0;32m-> 1910\u001b[0m         \u001b[38;5;28;43mself\u001b[39;49m\u001b[38;5;241;43m.\u001b[39;49m\u001b[43mdialect\u001b[49m\u001b[38;5;241;43m.\u001b[39;49m\u001b[43mdo_execute\u001b[49m\u001b[43m(\u001b[49m\n\u001b[1;32m   1911\u001b[0m \u001b[43m            \u001b[49m\u001b[43mcursor\u001b[49m\u001b[43m,\u001b[49m\u001b[43m \u001b[49m\u001b[43mstatement\u001b[49m\u001b[43m,\u001b[49m\u001b[43m \u001b[49m\u001b[43mparameters\u001b[49m\u001b[43m,\u001b[49m\u001b[43m \u001b[49m\u001b[43mcontext\u001b[49m\n\u001b[1;32m   1912\u001b[0m \u001b[43m        \u001b[49m\u001b[43m)\u001b[49m\n\u001b[1;32m   1914\u001b[0m \u001b[38;5;28;01mif\u001b[39;00m \u001b[38;5;28mself\u001b[39m\u001b[38;5;241m.\u001b[39m_has_events \u001b[38;5;129;01mor\u001b[39;00m \u001b[38;5;28mself\u001b[39m\u001b[38;5;241m.\u001b[39mengine\u001b[38;5;241m.\u001b[39m_has_events:\n",
      "File \u001b[0;32m~/.pyenv/versions/3.10.1/lib/python3.10/site-packages/sqlalchemy/engine/default.py:736\u001b[0m, in \u001b[0;36mDefaultDialect.do_execute\u001b[0;34m(self, cursor, statement, parameters, context)\u001b[0m\n\u001b[1;32m    735\u001b[0m \u001b[38;5;28;01mdef\u001b[39;00m \u001b[38;5;21mdo_execute\u001b[39m(\u001b[38;5;28mself\u001b[39m, cursor, statement, parameters, context\u001b[38;5;241m=\u001b[39m\u001b[38;5;28;01mNone\u001b[39;00m):\n\u001b[0;32m--> 736\u001b[0m     \u001b[43mcursor\u001b[49m\u001b[38;5;241;43m.\u001b[39;49m\u001b[43mexecute\u001b[49m\u001b[43m(\u001b[49m\u001b[43mstatement\u001b[49m\u001b[43m,\u001b[49m\u001b[43m \u001b[49m\u001b[43mparameters\u001b[49m\u001b[43m)\u001b[49m\n",
      "File \u001b[0;32m~/.pyenv/versions/3.10.1/lib/python3.10/site-packages/snowflake/connector/cursor.py:937\u001b[0m, in \u001b[0;36mSnowflakeCursor.execute\u001b[0;34m(self, command, params, _bind_stage, timeout, _exec_async, _no_retry, _do_reset, _put_callback, _put_azure_callback, _put_callback_output_stream, _get_callback, _get_azure_callback, _get_callback_output_stream, _show_progress_bar, _statement_params, _is_internal, _describe_only, _no_results, _is_put_get, _raise_put_get_error, _force_put_overwrite, _skip_upload_on_content_match, file_stream, num_statements)\u001b[0m\n\u001b[1;32m    936\u001b[0m     error_class \u001b[38;5;241m=\u001b[39m IntegrityError \u001b[38;5;28;01mif\u001b[39;00m is_integrity_error \u001b[38;5;28;01melse\u001b[39;00m ProgrammingError\n\u001b[0;32m--> 937\u001b[0m     \u001b[43mError\u001b[49m\u001b[38;5;241;43m.\u001b[39;49m\u001b[43merrorhandler_wrapper\u001b[49m\u001b[43m(\u001b[49m\u001b[38;5;28;43mself\u001b[39;49m\u001b[38;5;241;43m.\u001b[39;49m\u001b[43mconnection\u001b[49m\u001b[43m,\u001b[49m\u001b[43m \u001b[49m\u001b[38;5;28;43mself\u001b[39;49m\u001b[43m,\u001b[49m\u001b[43m \u001b[49m\u001b[43merror_class\u001b[49m\u001b[43m,\u001b[49m\u001b[43m \u001b[49m\u001b[43merrvalue\u001b[49m\u001b[43m)\u001b[49m\n\u001b[1;32m    938\u001b[0m \u001b[38;5;28;01mreturn\u001b[39;00m \u001b[38;5;28mself\u001b[39m\n",
      "File \u001b[0;32m~/.pyenv/versions/3.10.1/lib/python3.10/site-packages/snowflake/connector/errors.py:290\u001b[0m, in \u001b[0;36mError.errorhandler_wrapper\u001b[0;34m(connection, cursor, error_class, error_value)\u001b[0m\n\u001b[1;32m    274\u001b[0m \u001b[38;5;250m\u001b[39m\u001b[38;5;124;03m\"\"\"Error handler wrapper that calls the errorhandler method.\u001b[39;00m\n\u001b[1;32m    275\u001b[0m \n\u001b[1;32m    276\u001b[0m \u001b[38;5;124;03mArgs:\u001b[39;00m\n\u001b[0;32m   (...)\u001b[0m\n\u001b[1;32m    287\u001b[0m \u001b[38;5;124;03m    exception to the first handler in that order.\u001b[39;00m\n\u001b[1;32m    288\u001b[0m \u001b[38;5;124;03m\"\"\"\u001b[39;00m\n\u001b[0;32m--> 290\u001b[0m handed_over \u001b[38;5;241m=\u001b[39m \u001b[43mError\u001b[49m\u001b[38;5;241;43m.\u001b[39;49m\u001b[43mhand_to_other_handler\u001b[49m\u001b[43m(\u001b[49m\n\u001b[1;32m    291\u001b[0m \u001b[43m    \u001b[49m\u001b[43mconnection\u001b[49m\u001b[43m,\u001b[49m\n\u001b[1;32m    292\u001b[0m \u001b[43m    \u001b[49m\u001b[43mcursor\u001b[49m\u001b[43m,\u001b[49m\n\u001b[1;32m    293\u001b[0m \u001b[43m    \u001b[49m\u001b[43merror_class\u001b[49m\u001b[43m,\u001b[49m\n\u001b[1;32m    294\u001b[0m \u001b[43m    \u001b[49m\u001b[43merror_value\u001b[49m\u001b[43m,\u001b[49m\n\u001b[1;32m    295\u001b[0m \u001b[43m\u001b[49m\u001b[43m)\u001b[49m\n\u001b[1;32m    296\u001b[0m \u001b[38;5;28;01mif\u001b[39;00m \u001b[38;5;129;01mnot\u001b[39;00m handed_over:\n",
      "File \u001b[0;32m~/.pyenv/versions/3.10.1/lib/python3.10/site-packages/snowflake/connector/errors.py:345\u001b[0m, in \u001b[0;36mError.hand_to_other_handler\u001b[0;34m(connection, cursor, error_class, error_value)\u001b[0m\n\u001b[1;32m    344\u001b[0m cursor\u001b[38;5;241m.\u001b[39mmessages\u001b[38;5;241m.\u001b[39mappend((error_class, error_value))\n\u001b[0;32m--> 345\u001b[0m \u001b[43mcursor\u001b[49m\u001b[38;5;241;43m.\u001b[39;49m\u001b[43merrorhandler\u001b[49m\u001b[43m(\u001b[49m\u001b[43mconnection\u001b[49m\u001b[43m,\u001b[49m\u001b[43m \u001b[49m\u001b[43mcursor\u001b[49m\u001b[43m,\u001b[49m\u001b[43m \u001b[49m\u001b[43merror_class\u001b[49m\u001b[43m,\u001b[49m\u001b[43m \u001b[49m\u001b[43merror_value\u001b[49m\u001b[43m)\u001b[49m\n\u001b[1;32m    346\u001b[0m \u001b[38;5;28;01mreturn\u001b[39;00m \u001b[38;5;28;01mTrue\u001b[39;00m\n",
      "File \u001b[0;32m~/.pyenv/versions/3.10.1/lib/python3.10/site-packages/snowflake/connector/errors.py:221\u001b[0m, in \u001b[0;36mError.default_errorhandler\u001b[0;34m(connection, cursor, error_class, error_value)\u001b[0m\n\u001b[1;32m    220\u001b[0m done_format_msg \u001b[38;5;241m=\u001b[39m error_value\u001b[38;5;241m.\u001b[39mget(\u001b[38;5;124m\"\u001b[39m\u001b[38;5;124mdone_format_msg\u001b[39m\u001b[38;5;124m\"\u001b[39m)\n\u001b[0;32m--> 221\u001b[0m \u001b[38;5;28;01mraise\u001b[39;00m error_class(\n\u001b[1;32m    222\u001b[0m     msg\u001b[38;5;241m=\u001b[39merror_value\u001b[38;5;241m.\u001b[39mget(\u001b[38;5;124m\"\u001b[39m\u001b[38;5;124mmsg\u001b[39m\u001b[38;5;124m\"\u001b[39m),\n\u001b[1;32m    223\u001b[0m     errno\u001b[38;5;241m=\u001b[39m\u001b[38;5;28;01mNone\u001b[39;00m \u001b[38;5;28;01mif\u001b[39;00m errno \u001b[38;5;129;01mis\u001b[39;00m \u001b[38;5;28;01mNone\u001b[39;00m \u001b[38;5;28;01melse\u001b[39;00m \u001b[38;5;28mint\u001b[39m(errno),\n\u001b[1;32m    224\u001b[0m     sqlstate\u001b[38;5;241m=\u001b[39merror_value\u001b[38;5;241m.\u001b[39mget(\u001b[38;5;124m\"\u001b[39m\u001b[38;5;124msqlstate\u001b[39m\u001b[38;5;124m\"\u001b[39m),\n\u001b[1;32m    225\u001b[0m     sfqid\u001b[38;5;241m=\u001b[39merror_value\u001b[38;5;241m.\u001b[39mget(\u001b[38;5;124m\"\u001b[39m\u001b[38;5;124msfqid\u001b[39m\u001b[38;5;124m\"\u001b[39m),\n\u001b[1;32m    226\u001b[0m     query\u001b[38;5;241m=\u001b[39merror_value\u001b[38;5;241m.\u001b[39mget(\u001b[38;5;124m\"\u001b[39m\u001b[38;5;124mquery\u001b[39m\u001b[38;5;124m\"\u001b[39m),\n\u001b[1;32m    227\u001b[0m     done_format_msg\u001b[38;5;241m=\u001b[39m(\n\u001b[1;32m    228\u001b[0m         \u001b[38;5;28;01mNone\u001b[39;00m \u001b[38;5;28;01mif\u001b[39;00m done_format_msg \u001b[38;5;129;01mis\u001b[39;00m \u001b[38;5;28;01mNone\u001b[39;00m \u001b[38;5;28;01melse\u001b[39;00m \u001b[38;5;28mbool\u001b[39m(done_format_msg)\n\u001b[1;32m    229\u001b[0m     ),\n\u001b[1;32m    230\u001b[0m     connection\u001b[38;5;241m=\u001b[39mconnection,\n\u001b[1;32m    231\u001b[0m     cursor\u001b[38;5;241m=\u001b[39mcursor,\n\u001b[1;32m    232\u001b[0m )\n",
      "\u001b[0;31mProgrammingError\u001b[0m: 000904 (42000): SQL compilation error: error line 4 at position 4\ninvalid identifier 'BALANCE.LIABILITIES'",
      "\nThe above exception was the direct cause of the following exception:\n",
      "\u001b[0;31mProgrammingError\u001b[0m                          Traceback (most recent call last)",
      "Cell \u001b[0;32mIn[119], line 4\u001b[0m\n\u001b[1;32m      2\u001b[0m sql \u001b[38;5;241m=\u001b[39m sql_match\u001b[38;5;241m.\u001b[39mgroup(\u001b[38;5;241m1\u001b[39m)\n\u001b[1;32m      3\u001b[0m \u001b[38;5;66;03m# conn = st.experimental_connection(\"snowpark\")\u001b[39;00m\n\u001b[0;32m----> 4\u001b[0m results \u001b[38;5;241m=\u001b[39m \u001b[43mpd\u001b[49m\u001b[38;5;241;43m.\u001b[39;49m\u001b[43mread_sql\u001b[49m\u001b[43m(\u001b[49m\u001b[43msql\u001b[49m\u001b[43m,\u001b[49m\u001b[43m \u001b[49m\u001b[43mconnection\u001b[49m\u001b[43m)\u001b[49m\n\u001b[1;32m      5\u001b[0m \u001b[38;5;28mprint\u001b[39m(results)\n",
      "File \u001b[0;32m~/.pyenv/versions/3.10.1/lib/python3.10/site-packages/pandas/io/sql.py:682\u001b[0m, in \u001b[0;36mread_sql\u001b[0;34m(sql, con, index_col, coerce_float, params, parse_dates, columns, chunksize, dtype_backend, dtype)\u001b[0m\n\u001b[1;32m    672\u001b[0m     \u001b[38;5;28;01mreturn\u001b[39;00m pandas_sql\u001b[38;5;241m.\u001b[39mread_table(\n\u001b[1;32m    673\u001b[0m         sql,\n\u001b[1;32m    674\u001b[0m         index_col\u001b[38;5;241m=\u001b[39mindex_col,\n\u001b[0;32m   (...)\u001b[0m\n\u001b[1;32m    679\u001b[0m         dtype_backend\u001b[38;5;241m=\u001b[39mdtype_backend,\n\u001b[1;32m    680\u001b[0m     )\n\u001b[1;32m    681\u001b[0m \u001b[38;5;28;01melse\u001b[39;00m:\n\u001b[0;32m--> 682\u001b[0m     \u001b[38;5;28;01mreturn\u001b[39;00m \u001b[43mpandas_sql\u001b[49m\u001b[38;5;241;43m.\u001b[39;49m\u001b[43mread_query\u001b[49m\u001b[43m(\u001b[49m\n\u001b[1;32m    683\u001b[0m \u001b[43m        \u001b[49m\u001b[43msql\u001b[49m\u001b[43m,\u001b[49m\n\u001b[1;32m    684\u001b[0m \u001b[43m        \u001b[49m\u001b[43mindex_col\u001b[49m\u001b[38;5;241;43m=\u001b[39;49m\u001b[43mindex_col\u001b[49m\u001b[43m,\u001b[49m\n\u001b[1;32m    685\u001b[0m \u001b[43m        \u001b[49m\u001b[43mparams\u001b[49m\u001b[38;5;241;43m=\u001b[39;49m\u001b[43mparams\u001b[49m\u001b[43m,\u001b[49m\n\u001b[1;32m    686\u001b[0m \u001b[43m        \u001b[49m\u001b[43mcoerce_float\u001b[49m\u001b[38;5;241;43m=\u001b[39;49m\u001b[43mcoerce_float\u001b[49m\u001b[43m,\u001b[49m\n\u001b[1;32m    687\u001b[0m \u001b[43m        \u001b[49m\u001b[43mparse_dates\u001b[49m\u001b[38;5;241;43m=\u001b[39;49m\u001b[43mparse_dates\u001b[49m\u001b[43m,\u001b[49m\n\u001b[1;32m    688\u001b[0m \u001b[43m        \u001b[49m\u001b[43mchunksize\u001b[49m\u001b[38;5;241;43m=\u001b[39;49m\u001b[43mchunksize\u001b[49m\u001b[43m,\u001b[49m\n\u001b[1;32m    689\u001b[0m \u001b[43m        \u001b[49m\u001b[43mdtype_backend\u001b[49m\u001b[38;5;241;43m=\u001b[39;49m\u001b[43mdtype_backend\u001b[49m\u001b[43m,\u001b[49m\n\u001b[1;32m    690\u001b[0m \u001b[43m        \u001b[49m\u001b[43mdtype\u001b[49m\u001b[38;5;241;43m=\u001b[39;49m\u001b[43mdtype\u001b[49m\u001b[43m,\u001b[49m\n\u001b[1;32m    691\u001b[0m \u001b[43m    \u001b[49m\u001b[43m)\u001b[49m\n",
      "File \u001b[0;32m~/.pyenv/versions/3.10.1/lib/python3.10/site-packages/pandas/io/sql.py:1776\u001b[0m, in \u001b[0;36mSQLDatabase.read_query\u001b[0;34m(self, sql, index_col, coerce_float, parse_dates, params, chunksize, dtype, dtype_backend)\u001b[0m\n\u001b[1;32m   1719\u001b[0m \u001b[38;5;28;01mdef\u001b[39;00m \u001b[38;5;21mread_query\u001b[39m(\n\u001b[1;32m   1720\u001b[0m     \u001b[38;5;28mself\u001b[39m,\n\u001b[1;32m   1721\u001b[0m     sql: \u001b[38;5;28mstr\u001b[39m,\n\u001b[0;32m   (...)\u001b[0m\n\u001b[1;32m   1728\u001b[0m     dtype_backend: DtypeBackend \u001b[38;5;241m|\u001b[39m Literal[\u001b[38;5;124m\"\u001b[39m\u001b[38;5;124mnumpy\u001b[39m\u001b[38;5;124m\"\u001b[39m] \u001b[38;5;241m=\u001b[39m \u001b[38;5;124m\"\u001b[39m\u001b[38;5;124mnumpy\u001b[39m\u001b[38;5;124m\"\u001b[39m,\n\u001b[1;32m   1729\u001b[0m ) \u001b[38;5;241m-\u001b[39m\u001b[38;5;241m>\u001b[39m DataFrame \u001b[38;5;241m|\u001b[39m Iterator[DataFrame]:\n\u001b[1;32m   1730\u001b[0m \u001b[38;5;250m    \u001b[39m\u001b[38;5;124;03m\"\"\"\u001b[39;00m\n\u001b[1;32m   1731\u001b[0m \u001b[38;5;124;03m    Read SQL query into a DataFrame.\u001b[39;00m\n\u001b[1;32m   1732\u001b[0m \n\u001b[0;32m   (...)\u001b[0m\n\u001b[1;32m   1774\u001b[0m \n\u001b[1;32m   1775\u001b[0m \u001b[38;5;124;03m    \"\"\"\u001b[39;00m\n\u001b[0;32m-> 1776\u001b[0m     result \u001b[38;5;241m=\u001b[39m \u001b[38;5;28;43mself\u001b[39;49m\u001b[38;5;241;43m.\u001b[39;49m\u001b[43mexecute\u001b[49m\u001b[43m(\u001b[49m\u001b[43msql\u001b[49m\u001b[43m,\u001b[49m\u001b[43m \u001b[49m\u001b[43mparams\u001b[49m\u001b[43m)\u001b[49m\n\u001b[1;32m   1777\u001b[0m     columns \u001b[38;5;241m=\u001b[39m result\u001b[38;5;241m.\u001b[39mkeys()\n\u001b[1;32m   1779\u001b[0m     \u001b[38;5;28;01mif\u001b[39;00m chunksize \u001b[38;5;129;01mis\u001b[39;00m \u001b[38;5;129;01mnot\u001b[39;00m \u001b[38;5;28;01mNone\u001b[39;00m:\n",
      "File \u001b[0;32m~/.pyenv/versions/3.10.1/lib/python3.10/site-packages/pandas/io/sql.py:1599\u001b[0m, in \u001b[0;36mSQLDatabase.execute\u001b[0;34m(self, sql, params)\u001b[0m\n\u001b[1;32m   1597\u001b[0m args \u001b[38;5;241m=\u001b[39m [] \u001b[38;5;28;01mif\u001b[39;00m params \u001b[38;5;129;01mis\u001b[39;00m \u001b[38;5;28;01mNone\u001b[39;00m \u001b[38;5;28;01melse\u001b[39;00m [params]\n\u001b[1;32m   1598\u001b[0m \u001b[38;5;28;01mif\u001b[39;00m \u001b[38;5;28misinstance\u001b[39m(sql, \u001b[38;5;28mstr\u001b[39m):\n\u001b[0;32m-> 1599\u001b[0m     \u001b[38;5;28;01mreturn\u001b[39;00m \u001b[38;5;28;43mself\u001b[39;49m\u001b[38;5;241;43m.\u001b[39;49m\u001b[43mcon\u001b[49m\u001b[38;5;241;43m.\u001b[39;49m\u001b[43mexec_driver_sql\u001b[49m\u001b[43m(\u001b[49m\u001b[43msql\u001b[49m\u001b[43m,\u001b[49m\u001b[43m \u001b[49m\u001b[38;5;241;43m*\u001b[39;49m\u001b[43margs\u001b[49m\u001b[43m)\u001b[49m\n\u001b[1;32m   1600\u001b[0m \u001b[38;5;28;01mreturn\u001b[39;00m \u001b[38;5;28mself\u001b[39m\u001b[38;5;241m.\u001b[39mcon\u001b[38;5;241m.\u001b[39mexecute(sql, \u001b[38;5;241m*\u001b[39margs)\n",
      "File \u001b[0;32m~/.pyenv/versions/3.10.1/lib/python3.10/site-packages/sqlalchemy/engine/base.py:1770\u001b[0m, in \u001b[0;36mConnection.exec_driver_sql\u001b[0;34m(self, statement, parameters, execution_options)\u001b[0m\n\u001b[1;32m   1715\u001b[0m \u001b[38;5;250m\u001b[39m\u001b[38;5;124mr\u001b[39m\u001b[38;5;124;03m\"\"\"Executes a string SQL statement on the DBAPI cursor directly,\u001b[39;00m\n\u001b[1;32m   1716\u001b[0m \u001b[38;5;124;03mwithout any SQL compilation steps.\u001b[39;00m\n\u001b[1;32m   1717\u001b[0m \n\u001b[0;32m   (...)\u001b[0m\n\u001b[1;32m   1765\u001b[0m \n\u001b[1;32m   1766\u001b[0m \u001b[38;5;124;03m\"\"\"\u001b[39;00m\n\u001b[1;32m   1768\u001b[0m args_10style, kwargs_10style \u001b[38;5;241m=\u001b[39m _distill_params_20(parameters)\n\u001b[0;32m-> 1770\u001b[0m \u001b[38;5;28;01mreturn\u001b[39;00m \u001b[38;5;28;43mself\u001b[39;49m\u001b[38;5;241;43m.\u001b[39;49m\u001b[43m_exec_driver_sql\u001b[49m\u001b[43m(\u001b[49m\n\u001b[1;32m   1771\u001b[0m \u001b[43m    \u001b[49m\u001b[43mstatement\u001b[49m\u001b[43m,\u001b[49m\n\u001b[1;32m   1772\u001b[0m \u001b[43m    \u001b[49m\u001b[43margs_10style\u001b[49m\u001b[43m,\u001b[49m\n\u001b[1;32m   1773\u001b[0m \u001b[43m    \u001b[49m\u001b[43mkwargs_10style\u001b[49m\u001b[43m,\u001b[49m\n\u001b[1;32m   1774\u001b[0m \u001b[43m    \u001b[49m\u001b[43mexecution_options\u001b[49m\u001b[43m,\u001b[49m\n\u001b[1;32m   1775\u001b[0m \u001b[43m    \u001b[49m\u001b[43mfuture\u001b[49m\u001b[38;5;241;43m=\u001b[39;49m\u001b[38;5;28;43;01mTrue\u001b[39;49;00m\u001b[43m,\u001b[49m\n\u001b[1;32m   1776\u001b[0m \u001b[43m\u001b[49m\u001b[43m)\u001b[49m\n",
      "File \u001b[0;32m~/.pyenv/versions/3.10.1/lib/python3.10/site-packages/sqlalchemy/engine/base.py:1674\u001b[0m, in \u001b[0;36mConnection._exec_driver_sql\u001b[0;34m(self, statement, multiparams, params, execution_options, future)\u001b[0m\n\u001b[1;32m   1664\u001b[0m         (\n\u001b[1;32m   1665\u001b[0m             statement,\n\u001b[1;32m   1666\u001b[0m             distilled_params,\n\u001b[0;32m   (...)\u001b[0m\n\u001b[1;32m   1670\u001b[0m             statement, distilled_parameters, execution_options\n\u001b[1;32m   1671\u001b[0m         )\n\u001b[1;32m   1673\u001b[0m dialect \u001b[38;5;241m=\u001b[39m \u001b[38;5;28mself\u001b[39m\u001b[38;5;241m.\u001b[39mdialect\n\u001b[0;32m-> 1674\u001b[0m ret \u001b[38;5;241m=\u001b[39m \u001b[38;5;28;43mself\u001b[39;49m\u001b[38;5;241;43m.\u001b[39;49m\u001b[43m_execute_context\u001b[49m\u001b[43m(\u001b[49m\n\u001b[1;32m   1675\u001b[0m \u001b[43m    \u001b[49m\u001b[43mdialect\u001b[49m\u001b[43m,\u001b[49m\n\u001b[1;32m   1676\u001b[0m \u001b[43m    \u001b[49m\u001b[43mdialect\u001b[49m\u001b[38;5;241;43m.\u001b[39;49m\u001b[43mexecution_ctx_cls\u001b[49m\u001b[38;5;241;43m.\u001b[39;49m\u001b[43m_init_statement\u001b[49m\u001b[43m,\u001b[49m\n\u001b[1;32m   1677\u001b[0m \u001b[43m    \u001b[49m\u001b[43mstatement\u001b[49m\u001b[43m,\u001b[49m\n\u001b[1;32m   1678\u001b[0m \u001b[43m    \u001b[49m\u001b[43mdistilled_parameters\u001b[49m\u001b[43m,\u001b[49m\n\u001b[1;32m   1679\u001b[0m \u001b[43m    \u001b[49m\u001b[43mexecution_options\u001b[49m\u001b[43m,\u001b[49m\n\u001b[1;32m   1680\u001b[0m \u001b[43m    \u001b[49m\u001b[43mstatement\u001b[49m\u001b[43m,\u001b[49m\n\u001b[1;32m   1681\u001b[0m \u001b[43m    \u001b[49m\u001b[43mdistilled_parameters\u001b[49m\u001b[43m,\u001b[49m\n\u001b[1;32m   1682\u001b[0m \u001b[43m\u001b[49m\u001b[43m)\u001b[49m\n\u001b[1;32m   1684\u001b[0m \u001b[38;5;28;01mif\u001b[39;00m \u001b[38;5;129;01mnot\u001b[39;00m future:\n\u001b[1;32m   1685\u001b[0m     \u001b[38;5;28;01mif\u001b[39;00m \u001b[38;5;28mself\u001b[39m\u001b[38;5;241m.\u001b[39m_has_events \u001b[38;5;129;01mor\u001b[39;00m \u001b[38;5;28mself\u001b[39m\u001b[38;5;241m.\u001b[39mengine\u001b[38;5;241m.\u001b[39m_has_events:\n",
      "File \u001b[0;32m~/.pyenv/versions/3.10.1/lib/python3.10/site-packages/sqlalchemy/engine/base.py:1953\u001b[0m, in \u001b[0;36mConnection._execute_context\u001b[0;34m(self, dialect, constructor, statement, parameters, execution_options, *args, **kw)\u001b[0m\n\u001b[1;32m   1950\u001b[0m             branched\u001b[38;5;241m.\u001b[39mclose()\n\u001b[1;32m   1952\u001b[0m \u001b[38;5;28;01mexcept\u001b[39;00m \u001b[38;5;167;01mBaseException\u001b[39;00m \u001b[38;5;28;01mas\u001b[39;00m e:\n\u001b[0;32m-> 1953\u001b[0m     \u001b[38;5;28;43mself\u001b[39;49m\u001b[38;5;241;43m.\u001b[39;49m\u001b[43m_handle_dbapi_exception\u001b[49m\u001b[43m(\u001b[49m\n\u001b[1;32m   1954\u001b[0m \u001b[43m        \u001b[49m\u001b[43me\u001b[49m\u001b[43m,\u001b[49m\u001b[43m \u001b[49m\u001b[43mstatement\u001b[49m\u001b[43m,\u001b[49m\u001b[43m \u001b[49m\u001b[43mparameters\u001b[49m\u001b[43m,\u001b[49m\u001b[43m \u001b[49m\u001b[43mcursor\u001b[49m\u001b[43m,\u001b[49m\u001b[43m \u001b[49m\u001b[43mcontext\u001b[49m\n\u001b[1;32m   1955\u001b[0m \u001b[43m    \u001b[49m\u001b[43m)\u001b[49m\n\u001b[1;32m   1957\u001b[0m \u001b[38;5;28;01mreturn\u001b[39;00m result\n",
      "File \u001b[0;32m~/.pyenv/versions/3.10.1/lib/python3.10/site-packages/sqlalchemy/engine/base.py:2134\u001b[0m, in \u001b[0;36mConnection._handle_dbapi_exception\u001b[0;34m(self, e, statement, parameters, cursor, context)\u001b[0m\n\u001b[1;32m   2132\u001b[0m     util\u001b[38;5;241m.\u001b[39mraise_(newraise, with_traceback\u001b[38;5;241m=\u001b[39mexc_info[\u001b[38;5;241m2\u001b[39m], from_\u001b[38;5;241m=\u001b[39me)\n\u001b[1;32m   2133\u001b[0m \u001b[38;5;28;01melif\u001b[39;00m should_wrap:\n\u001b[0;32m-> 2134\u001b[0m     \u001b[43mutil\u001b[49m\u001b[38;5;241;43m.\u001b[39;49m\u001b[43mraise_\u001b[49m\u001b[43m(\u001b[49m\n\u001b[1;32m   2135\u001b[0m \u001b[43m        \u001b[49m\u001b[43msqlalchemy_exception\u001b[49m\u001b[43m,\u001b[49m\u001b[43m \u001b[49m\u001b[43mwith_traceback\u001b[49m\u001b[38;5;241;43m=\u001b[39;49m\u001b[43mexc_info\u001b[49m\u001b[43m[\u001b[49m\u001b[38;5;241;43m2\u001b[39;49m\u001b[43m]\u001b[49m\u001b[43m,\u001b[49m\u001b[43m \u001b[49m\u001b[43mfrom_\u001b[49m\u001b[38;5;241;43m=\u001b[39;49m\u001b[43me\u001b[49m\n\u001b[1;32m   2136\u001b[0m \u001b[43m    \u001b[49m\u001b[43m)\u001b[49m\n\u001b[1;32m   2137\u001b[0m \u001b[38;5;28;01melse\u001b[39;00m:\n\u001b[1;32m   2138\u001b[0m     util\u001b[38;5;241m.\u001b[39mraise_(exc_info[\u001b[38;5;241m1\u001b[39m], with_traceback\u001b[38;5;241m=\u001b[39mexc_info[\u001b[38;5;241m2\u001b[39m])\n",
      "File \u001b[0;32m~/.pyenv/versions/3.10.1/lib/python3.10/site-packages/sqlalchemy/util/compat.py:211\u001b[0m, in \u001b[0;36mraise_\u001b[0;34m(***failed resolving arguments***)\u001b[0m\n\u001b[1;32m    208\u001b[0m     exception\u001b[38;5;241m.\u001b[39m__cause__ \u001b[38;5;241m=\u001b[39m replace_context\n\u001b[1;32m    210\u001b[0m \u001b[38;5;28;01mtry\u001b[39;00m:\n\u001b[0;32m--> 211\u001b[0m     \u001b[38;5;28;01mraise\u001b[39;00m exception\n\u001b[1;32m    212\u001b[0m \u001b[38;5;28;01mfinally\u001b[39;00m:\n\u001b[1;32m    213\u001b[0m     \u001b[38;5;66;03m# credit to\u001b[39;00m\n\u001b[1;32m    214\u001b[0m     \u001b[38;5;66;03m# https://cosmicpercolator.com/2016/01/13/exception-leaks-in-python-2-and-3/\u001b[39;00m\n\u001b[1;32m    215\u001b[0m     \u001b[38;5;66;03m# as the __traceback__ object creates a cycle\u001b[39;00m\n\u001b[1;32m    216\u001b[0m     \u001b[38;5;28;01mdel\u001b[39;00m exception, replace_context, from_, with_traceback\n",
      "File \u001b[0;32m~/.pyenv/versions/3.10.1/lib/python3.10/site-packages/sqlalchemy/engine/base.py:1910\u001b[0m, in \u001b[0;36mConnection._execute_context\u001b[0;34m(self, dialect, constructor, statement, parameters, execution_options, *args, **kw)\u001b[0m\n\u001b[1;32m   1908\u001b[0m                 \u001b[38;5;28;01mbreak\u001b[39;00m\n\u001b[1;32m   1909\u001b[0m     \u001b[38;5;28;01mif\u001b[39;00m \u001b[38;5;129;01mnot\u001b[39;00m evt_handled:\n\u001b[0;32m-> 1910\u001b[0m         \u001b[38;5;28;43mself\u001b[39;49m\u001b[38;5;241;43m.\u001b[39;49m\u001b[43mdialect\u001b[49m\u001b[38;5;241;43m.\u001b[39;49m\u001b[43mdo_execute\u001b[49m\u001b[43m(\u001b[49m\n\u001b[1;32m   1911\u001b[0m \u001b[43m            \u001b[49m\u001b[43mcursor\u001b[49m\u001b[43m,\u001b[49m\u001b[43m \u001b[49m\u001b[43mstatement\u001b[49m\u001b[43m,\u001b[49m\u001b[43m \u001b[49m\u001b[43mparameters\u001b[49m\u001b[43m,\u001b[49m\u001b[43m \u001b[49m\u001b[43mcontext\u001b[49m\n\u001b[1;32m   1912\u001b[0m \u001b[43m        \u001b[49m\u001b[43m)\u001b[49m\n\u001b[1;32m   1914\u001b[0m \u001b[38;5;28;01mif\u001b[39;00m \u001b[38;5;28mself\u001b[39m\u001b[38;5;241m.\u001b[39m_has_events \u001b[38;5;129;01mor\u001b[39;00m \u001b[38;5;28mself\u001b[39m\u001b[38;5;241m.\u001b[39mengine\u001b[38;5;241m.\u001b[39m_has_events:\n\u001b[1;32m   1915\u001b[0m     \u001b[38;5;28mself\u001b[39m\u001b[38;5;241m.\u001b[39mdispatch\u001b[38;5;241m.\u001b[39mafter_cursor_execute(\n\u001b[1;32m   1916\u001b[0m         \u001b[38;5;28mself\u001b[39m,\n\u001b[1;32m   1917\u001b[0m         cursor,\n\u001b[0;32m   (...)\u001b[0m\n\u001b[1;32m   1921\u001b[0m         context\u001b[38;5;241m.\u001b[39mexecutemany,\n\u001b[1;32m   1922\u001b[0m     )\n",
      "File \u001b[0;32m~/.pyenv/versions/3.10.1/lib/python3.10/site-packages/sqlalchemy/engine/default.py:736\u001b[0m, in \u001b[0;36mDefaultDialect.do_execute\u001b[0;34m(self, cursor, statement, parameters, context)\u001b[0m\n\u001b[1;32m    735\u001b[0m \u001b[38;5;28;01mdef\u001b[39;00m \u001b[38;5;21mdo_execute\u001b[39m(\u001b[38;5;28mself\u001b[39m, cursor, statement, parameters, context\u001b[38;5;241m=\u001b[39m\u001b[38;5;28;01mNone\u001b[39;00m):\n\u001b[0;32m--> 736\u001b[0m     \u001b[43mcursor\u001b[49m\u001b[38;5;241;43m.\u001b[39;49m\u001b[43mexecute\u001b[49m\u001b[43m(\u001b[49m\u001b[43mstatement\u001b[49m\u001b[43m,\u001b[49m\u001b[43m \u001b[49m\u001b[43mparameters\u001b[49m\u001b[43m)\u001b[49m\n",
      "File \u001b[0;32m~/.pyenv/versions/3.10.1/lib/python3.10/site-packages/snowflake/connector/cursor.py:937\u001b[0m, in \u001b[0;36mSnowflakeCursor.execute\u001b[0;34m(self, command, params, _bind_stage, timeout, _exec_async, _no_retry, _do_reset, _put_callback, _put_azure_callback, _put_callback_output_stream, _get_callback, _get_azure_callback, _get_callback_output_stream, _show_progress_bar, _statement_params, _is_internal, _describe_only, _no_results, _is_put_get, _raise_put_get_error, _force_put_overwrite, _skip_upload_on_content_match, file_stream, num_statements)\u001b[0m\n\u001b[1;32m    933\u001b[0m     is_integrity_error \u001b[38;5;241m=\u001b[39m (\n\u001b[1;32m    934\u001b[0m         code \u001b[38;5;241m==\u001b[39m \u001b[38;5;124m\"\u001b[39m\u001b[38;5;124m100072\u001b[39m\u001b[38;5;124m\"\u001b[39m\n\u001b[1;32m    935\u001b[0m     )  \u001b[38;5;66;03m# NULL result in a non-nullable column\u001b[39;00m\n\u001b[1;32m    936\u001b[0m     error_class \u001b[38;5;241m=\u001b[39m IntegrityError \u001b[38;5;28;01mif\u001b[39;00m is_integrity_error \u001b[38;5;28;01melse\u001b[39;00m ProgrammingError\n\u001b[0;32m--> 937\u001b[0m     \u001b[43mError\u001b[49m\u001b[38;5;241;43m.\u001b[39;49m\u001b[43merrorhandler_wrapper\u001b[49m\u001b[43m(\u001b[49m\u001b[38;5;28;43mself\u001b[39;49m\u001b[38;5;241;43m.\u001b[39;49m\u001b[43mconnection\u001b[49m\u001b[43m,\u001b[49m\u001b[43m \u001b[49m\u001b[38;5;28;43mself\u001b[39;49m\u001b[43m,\u001b[49m\u001b[43m \u001b[49m\u001b[43merror_class\u001b[49m\u001b[43m,\u001b[49m\u001b[43m \u001b[49m\u001b[43merrvalue\u001b[49m\u001b[43m)\u001b[49m\n\u001b[1;32m    938\u001b[0m \u001b[38;5;28;01mreturn\u001b[39;00m \u001b[38;5;28mself\u001b[39m\n",
      "File \u001b[0;32m~/.pyenv/versions/3.10.1/lib/python3.10/site-packages/snowflake/connector/errors.py:290\u001b[0m, in \u001b[0;36mError.errorhandler_wrapper\u001b[0;34m(connection, cursor, error_class, error_value)\u001b[0m\n\u001b[1;32m    267\u001b[0m \u001b[38;5;129m@staticmethod\u001b[39m\n\u001b[1;32m    268\u001b[0m \u001b[38;5;28;01mdef\u001b[39;00m \u001b[38;5;21merrorhandler_wrapper\u001b[39m(\n\u001b[1;32m    269\u001b[0m     connection: SnowflakeConnection \u001b[38;5;241m|\u001b[39m \u001b[38;5;28;01mNone\u001b[39;00m,\n\u001b[0;32m   (...)\u001b[0m\n\u001b[1;32m    272\u001b[0m     error_value: \u001b[38;5;28mdict\u001b[39m[\u001b[38;5;28mstr\u001b[39m, Any],\n\u001b[1;32m    273\u001b[0m ) \u001b[38;5;241m-\u001b[39m\u001b[38;5;241m>\u001b[39m \u001b[38;5;28;01mNone\u001b[39;00m:\n\u001b[1;32m    274\u001b[0m \u001b[38;5;250m    \u001b[39m\u001b[38;5;124;03m\"\"\"Error handler wrapper that calls the errorhandler method.\u001b[39;00m\n\u001b[1;32m    275\u001b[0m \n\u001b[1;32m    276\u001b[0m \u001b[38;5;124;03m    Args:\u001b[39;00m\n\u001b[0;32m   (...)\u001b[0m\n\u001b[1;32m    287\u001b[0m \u001b[38;5;124;03m        exception to the first handler in that order.\u001b[39;00m\n\u001b[1;32m    288\u001b[0m \u001b[38;5;124;03m    \"\"\"\u001b[39;00m\n\u001b[0;32m--> 290\u001b[0m     handed_over \u001b[38;5;241m=\u001b[39m \u001b[43mError\u001b[49m\u001b[38;5;241;43m.\u001b[39;49m\u001b[43mhand_to_other_handler\u001b[49m\u001b[43m(\u001b[49m\n\u001b[1;32m    291\u001b[0m \u001b[43m        \u001b[49m\u001b[43mconnection\u001b[49m\u001b[43m,\u001b[49m\n\u001b[1;32m    292\u001b[0m \u001b[43m        \u001b[49m\u001b[43mcursor\u001b[49m\u001b[43m,\u001b[49m\n\u001b[1;32m    293\u001b[0m \u001b[43m        \u001b[49m\u001b[43merror_class\u001b[49m\u001b[43m,\u001b[49m\n\u001b[1;32m    294\u001b[0m \u001b[43m        \u001b[49m\u001b[43merror_value\u001b[49m\u001b[43m,\u001b[49m\n\u001b[1;32m    295\u001b[0m \u001b[43m    \u001b[49m\u001b[43m)\u001b[49m\n\u001b[1;32m    296\u001b[0m     \u001b[38;5;28;01mif\u001b[39;00m \u001b[38;5;129;01mnot\u001b[39;00m handed_over:\n\u001b[1;32m    297\u001b[0m         \u001b[38;5;28;01mraise\u001b[39;00m Error\u001b[38;5;241m.\u001b[39merrorhandler_make_exception(\n\u001b[1;32m    298\u001b[0m             error_class,\n\u001b[1;32m    299\u001b[0m             error_value,\n\u001b[1;32m    300\u001b[0m         )\n",
      "File \u001b[0;32m~/.pyenv/versions/3.10.1/lib/python3.10/site-packages/snowflake/connector/errors.py:345\u001b[0m, in \u001b[0;36mError.hand_to_other_handler\u001b[0;34m(connection, cursor, error_class, error_value)\u001b[0m\n\u001b[1;32m    343\u001b[0m \u001b[38;5;28;01mif\u001b[39;00m cursor \u001b[38;5;129;01mis\u001b[39;00m \u001b[38;5;129;01mnot\u001b[39;00m \u001b[38;5;28;01mNone\u001b[39;00m:\n\u001b[1;32m    344\u001b[0m     cursor\u001b[38;5;241m.\u001b[39mmessages\u001b[38;5;241m.\u001b[39mappend((error_class, error_value))\n\u001b[0;32m--> 345\u001b[0m     \u001b[43mcursor\u001b[49m\u001b[38;5;241;43m.\u001b[39;49m\u001b[43merrorhandler\u001b[49m\u001b[43m(\u001b[49m\u001b[43mconnection\u001b[49m\u001b[43m,\u001b[49m\u001b[43m \u001b[49m\u001b[43mcursor\u001b[49m\u001b[43m,\u001b[49m\u001b[43m \u001b[49m\u001b[43merror_class\u001b[49m\u001b[43m,\u001b[49m\u001b[43m \u001b[49m\u001b[43merror_value\u001b[49m\u001b[43m)\u001b[49m\n\u001b[1;32m    346\u001b[0m     \u001b[38;5;28;01mreturn\u001b[39;00m \u001b[38;5;28;01mTrue\u001b[39;00m\n\u001b[1;32m    347\u001b[0m \u001b[38;5;28;01melif\u001b[39;00m connection \u001b[38;5;129;01mis\u001b[39;00m \u001b[38;5;129;01mnot\u001b[39;00m \u001b[38;5;28;01mNone\u001b[39;00m:\n",
      "File \u001b[0;32m~/.pyenv/versions/3.10.1/lib/python3.10/site-packages/snowflake/connector/errors.py:221\u001b[0m, in \u001b[0;36mError.default_errorhandler\u001b[0;34m(connection, cursor, error_class, error_value)\u001b[0m\n\u001b[1;32m    219\u001b[0m errno \u001b[38;5;241m=\u001b[39m error_value\u001b[38;5;241m.\u001b[39mget(\u001b[38;5;124m\"\u001b[39m\u001b[38;5;124merrno\u001b[39m\u001b[38;5;124m\"\u001b[39m)\n\u001b[1;32m    220\u001b[0m done_format_msg \u001b[38;5;241m=\u001b[39m error_value\u001b[38;5;241m.\u001b[39mget(\u001b[38;5;124m\"\u001b[39m\u001b[38;5;124mdone_format_msg\u001b[39m\u001b[38;5;124m\"\u001b[39m)\n\u001b[0;32m--> 221\u001b[0m \u001b[38;5;28;01mraise\u001b[39;00m error_class(\n\u001b[1;32m    222\u001b[0m     msg\u001b[38;5;241m=\u001b[39merror_value\u001b[38;5;241m.\u001b[39mget(\u001b[38;5;124m\"\u001b[39m\u001b[38;5;124mmsg\u001b[39m\u001b[38;5;124m\"\u001b[39m),\n\u001b[1;32m    223\u001b[0m     errno\u001b[38;5;241m=\u001b[39m\u001b[38;5;28;01mNone\u001b[39;00m \u001b[38;5;28;01mif\u001b[39;00m errno \u001b[38;5;129;01mis\u001b[39;00m \u001b[38;5;28;01mNone\u001b[39;00m \u001b[38;5;28;01melse\u001b[39;00m \u001b[38;5;28mint\u001b[39m(errno),\n\u001b[1;32m    224\u001b[0m     sqlstate\u001b[38;5;241m=\u001b[39merror_value\u001b[38;5;241m.\u001b[39mget(\u001b[38;5;124m\"\u001b[39m\u001b[38;5;124msqlstate\u001b[39m\u001b[38;5;124m\"\u001b[39m),\n\u001b[1;32m    225\u001b[0m     sfqid\u001b[38;5;241m=\u001b[39merror_value\u001b[38;5;241m.\u001b[39mget(\u001b[38;5;124m\"\u001b[39m\u001b[38;5;124msfqid\u001b[39m\u001b[38;5;124m\"\u001b[39m),\n\u001b[1;32m    226\u001b[0m     query\u001b[38;5;241m=\u001b[39merror_value\u001b[38;5;241m.\u001b[39mget(\u001b[38;5;124m\"\u001b[39m\u001b[38;5;124mquery\u001b[39m\u001b[38;5;124m\"\u001b[39m),\n\u001b[1;32m    227\u001b[0m     done_format_msg\u001b[38;5;241m=\u001b[39m(\n\u001b[1;32m    228\u001b[0m         \u001b[38;5;28;01mNone\u001b[39;00m \u001b[38;5;28;01mif\u001b[39;00m done_format_msg \u001b[38;5;129;01mis\u001b[39;00m \u001b[38;5;28;01mNone\u001b[39;00m \u001b[38;5;28;01melse\u001b[39;00m \u001b[38;5;28mbool\u001b[39m(done_format_msg)\n\u001b[1;32m    229\u001b[0m     ),\n\u001b[1;32m    230\u001b[0m     connection\u001b[38;5;241m=\u001b[39mconnection,\n\u001b[1;32m    231\u001b[0m     cursor\u001b[38;5;241m=\u001b[39mcursor,\n\u001b[1;32m    232\u001b[0m )\n",
      "\u001b[0;31mProgrammingError\u001b[0m: (snowflake.connector.errors.ProgrammingError) 000904 (42000): SQL compilation error: error line 4 at position 4\ninvalid identifier 'BALANCE.LIABILITIES'\n[SQL: CREATE OR REPLACE TABLE TESTFORADF.PUBLIC.LCIV_OUTPUT AS\nSELECT \n    BALANCE.\"Total Net Assets\" AS BALANCE_Total_Net_Assets,\n    BALANCE.Liabilities AS BALANCE_Liabilities,\n    BALANCE.Receivables AS BALANCE_Receivables,\n    BALANCE.Date AS BALANCE_Date,\n    BALANCE.\"Fund Name\" AS BALANCE_Fund_Name,\n    CASH.\"Country of Risk\" AS CASH_Country_of_Risk,\n    CASH.\"Account ID (FA)/Name\" AS CASH_Account_ID_FA_Name,\n    CASH.\"Issue Currency\" AS CASH_Issue_Currency,\n    CASH.\"Account ID (FA)\" AS CASH_Account_ID_FA,\n    CASH.\"Security Description (Short)\" AS CASH_Security_Description_Short,\n    CASH.\"Valuation Date\" AS CASH_Valuation_Date,\n    CASH.\"Security Number (Full)\" AS CASH_Security_Number_Full,\n    CASH.\"Long/Short Indicator\" AS CASH_Long_Short_Indicator,\n    CASH.\"Account ID (Custody)\" AS CASH_Account_ID_Custody\nFROM TESTFORADF.PUBLIC.BALANCE AS BALANCE\nCROSS JOIN TESTFORADF.PUBLIC.CASH AS CASH\nLIMIT 10;]\n(Background on this error at: https://sqlalche.me/e/14/f405)"
     ]
    }
   ],
   "source": [
    "if sql_match:\n",
    "    sql = sql_match.group(1)\n",
    "    # conn = st.experimental_connection(\"snowpark\")\n",
    "    results = pd.read_sql(sql, connection)\n",
    "    print(results)"
   ]
  },
  {
   "cell_type": "code",
   "execution_count": null,
   "id": "2cbd7b61-621b-4869-8607-cbb7b97f8a8b",
   "metadata": {},
   "outputs": [],
   "source": []
  },
  {
   "cell_type": "code",
   "execution_count": null,
   "id": "769541a3-eeb8-4f8e-878b-fe993c20d9ad",
   "metadata": {},
   "outputs": [],
   "source": []
  }
 ],
 "metadata": {
  "kernelspec": {
   "display_name": "Python 3 (ipykernel)",
   "language": "python",
   "name": "python3"
  },
  "language_info": {
   "codemirror_mode": {
    "name": "ipython",
    "version": 3
   },
   "file_extension": ".py",
   "mimetype": "text/x-python",
   "name": "python",
   "nbconvert_exporter": "python",
   "pygments_lexer": "ipython3",
   "version": "3.10.1"
  }
 },
 "nbformat": 4,
 "nbformat_minor": 5
}
